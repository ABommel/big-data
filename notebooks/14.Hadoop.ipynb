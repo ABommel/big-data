{
 "cells": [
  {
   "cell_type": "markdown",
   "metadata": {
    "slideshow": {
     "slide_type": "slide"
    }
   },
   "source": [
    "# Big Data\n",
    "\n",
    "- Data sets that are so large or complex that traditional data processing application software is inadequate to deal with them. \n",
    "- Data analysis requires massively parallel software running on several servers.\n",
    "- **Volume, Variety, Velocity, Variability and Veracity** describe Big Data properties."
   ]
  },
  {
   "cell_type": "markdown",
   "metadata": {
    "slideshow": {
     "slide_type": "slide"
    }
   },
   "source": [
    "![https://github.com/veekaybee/data-lake-talk/](images/bigdata.png)"
   ]
  },
  {
   "cell_type": "markdown",
   "metadata": {
    "slideshow": {
     "slide_type": "slide"
    }
   },
   "source": [
    "![Hadoop Logo](images/hadoop.png)\n",
    "\n",
    "- Framework for running applications on large cluster. \n",
    "- The Hadoop framework transparently provides applications both reliability and data motion. \n",
    "- Hadoop implements the computational paradigm named **Map/Reduce**, where the application is divided into many small fragments of work, each of which may be executed or re-executed on any node in the cluster. \n",
    "- It provides a distributed file system (HDFS) that stores data on the compute nodes, providing very high aggregate bandwidth across the cluster.\n",
    "- Both MapReduce and the **Hadoop Distributed File System** are designed so that node failures are automatically handled by the framework."
   ]
  },
  {
   "cell_type": "markdown",
   "metadata": {
    "slideshow": {
     "slide_type": "slide"
    }
   },
   "source": [
    "# HDFS\n",
    "* It is a distributed file systems.\n",
    "* HDFS is highly fault-tolerant and is designed to be deployed on low-cost hardware.\n",
    "* HDFS is suitable for applications that have large data sets. \n",
    "* HDFS provides interfaces to move applications closer to where the data is located. The computation is much more efficient when the size of the data set is huge. \n",
    "* HDFS consists of a single NameNode with a number of DataNodes which manage storage. \n",
    "* HDFS exposes a file system namespace and allows user data to be stored in files. \n",
    "    1. A file is split by the NameNode into blocks stored in DataNodes. \n",
    "    2. The **NameNode** executes operations like opening, closing, and renaming files and directories.\n",
    "    3. The **Secondary NameNode** stores information from **NameNode**. \n",
    "    4. The **DataNodes** manage perform block creation, deletion, and replication upon instruction from the NameNode.\n",
    "    5. The placement of replicas is optimized for data reliability, availability, and network bandwidth utilization.\n",
    "    6. User data never flows through the NameNode.\n",
    "* Files in HDFS are write-once and have strictly one writer at any time.\n",
    "* The DataNode has no knowledge about HDFS files. "
   ]
  },
  {
   "cell_type": "markdown",
   "metadata": {
    "slideshow": {
     "slide_type": "slide"
    }
   },
   "source": [
    "# Accessibility\n",
    "\n",
    "All [HDFS commands](http://hadoop.apache.org/docs/stable/hadoop-project-dist/hadoop-common/FileSystemShell.html)  are invoked by the bin/hdfs Java script:\n",
    "```shell\n",
    "hdfs [SHELL_OPTIONS] COMMAND [GENERIC_OPTIONS] [COMMAND_OPTIONS]\n",
    "```\n",
    "## Manage files and directories\n",
    "```shell\n",
    "hdfs dfs -ls -h -R # Recursively list subdirectories with human-readable file sizes.\n",
    "hdfs dfs -cp  # Copy files from source to destination\n",
    "hdfs dfs -mv  # Move files from source to destination\n",
    "hdfs dfs -mkdir /foodir # Create a directory named /foodir\t\n",
    "hdfs dfs -rmr /foodir   # Remove a directory named /foodir\t\n",
    "hdfs dfs -cat /foodir/myfile.txt #View the contents of a file named /foodir/myfile.txt\t\n",
    "```"
   ]
  },
  {
   "cell_type": "markdown",
   "metadata": {
    "slideshow": {
     "slide_type": "slide"
    }
   },
   "source": [
    "# Transfer between nodes\n",
    "\n",
    "## put\n",
    "```shell\n",
    "hdfs fs -put [-f] [-p] [-l] [-d] [ - | <localsrc1> .. ]. <dst>\n",
    "```\n",
    "Copy single src, or multiple srcs from local file system to the destination file system. \n",
    "\n",
    "Options:\n",
    "\n",
    "    -p : Preserves rights and modification times.\n",
    "    -f : Overwrites the destination if it already exists.\n",
    "\n",
    "```shell\n",
    "hdfs fs -put localfile /user/hadoop/hadoopfile\n",
    "hdfs fs -put -f localfile1 localfile2 /user/hadoop/hadoopdir\n",
    "```\n",
    "Similar to the fs -put command\n",
    "- `moveFromLocal` : to delete the source localsrc after copy.\n",
    "- `copyFromLocal` : source is restricted to a local file\n",
    "- `copyToLocal` : destination is restricted to a local file"
   ]
  },
  {
   "cell_type": "markdown",
   "metadata": {
    "slideshow": {
     "slide_type": "slide"
    }
   },
   "source": [
    "![hdfs blocks](images/hdfs-fonctionnement.jpg)\n",
    "\n",
    "The Name Node is not in the data path. The Name Node only provides the map of where data is and where data should go in the cluster (file system metadata)."
   ]
  },
  {
   "cell_type": "markdown",
   "metadata": {
    "slideshow": {
     "slide_type": "slide"
    }
   },
   "source": [
    "## Cluster Hadoop\n",
    "\n",
    "- 8 computers: sve1 -> sve9\n",
    "\n",
    "### NameNode Web Interface (HDFS layer) \n",
    "\n",
    "http://svmass2.mass.uhb.fr:50070\n",
    "\n",
    "The name node web UI shows you a cluster summary including information about total/remaining capacity, live and dead nodes. Additionally, it allows you to browse the HDFS namespace and view the contents of its files in the web browser. It also gives access to the local machine’s Hadoop log files.\n",
    "\n",
    "### Secondary Namenode Information.\n",
    "\n",
    "http://svmass2.mass.uhb.fr:50090/\n",
    "\n",
    "### Datanode Information.\n",
    "\n",
    "- http://svpe1.mass.uhb.fr:50075/\n",
    "- http://svpe2.mass.uhb.fr:50075/\n",
    "- ...\n",
    "- http://svpe8.mass.uhb.fr:50075/\n",
    "- http://svpe9.mass.uhb.fr:50075/"
   ]
  },
  {
   "cell_type": "markdown",
   "metadata": {
    "slideshow": {
     "slide_type": "slide"
    }
   },
   "source": [
    "To do following hands on you can switch to [JupyterLab](https://jupyterlab.readthedocs.io).\n",
    "\n",
    "Just go to this following address http://localhost:9000/lab\n",
    "\n",
    "- Check that your HDFS home directory required to execute MapReduce jobs exists:\n",
    "```bash\n",
    "hdfs dfs -ls /user/${USER}\n",
    "```\n",
    "- Type the following commands: \n",
    "```bash\n",
    "hdfs dfs -ls\n",
    "hdfs dfs -ls /\n",
    "hdfs dfs -mkdir test\n",
    "```\n",
    "- Create a local file user.txt containing your name and the date:"
   ]
  },
  {
   "cell_type": "code",
   "execution_count": 1,
   "metadata": {},
   "outputs": [
    {
     "name": "stdout",
     "output_type": "stream",
     "text": [
      "FirstName LastName\n",
      "Tue Nov 12 14:02:32 CET 2019\n"
     ]
    }
   ],
   "source": [
    "%%bash\n",
    "echo \"FirstName LastName\" > user.txt\n",
    "echo `date` >> user.txt \n",
    "cat user.txt"
   ]
  },
  {
   "cell_type": "markdown",
   "metadata": {
    "slideshow": {
     "slide_type": "slide"
    }
   },
   "source": [
    "Copy it on  HDFS :\n",
    "```bash\n",
    "hdfs dfs -put user.txt\n",
    "```\n",
    "\n",
    "Check with:\n",
    "```bash\n",
    "hdfs dfs -ls -R \n",
    "hdfs dfs -cat user.txt \n",
    "hdfs dfs -tail user.txt \n",
    "```"
   ]
  },
  {
   "cell_type": "code",
   "execution_count": 5,
   "metadata": {},
   "outputs": [
    {
     "name": "stdout",
     "output_type": "stream",
     "text": [
      "drwx------   - navaro_p hadoop          0 2019-11-05 12:32 /user/navaro_p/.staging\n",
      "drwx------   - navaro_p hadoop          0 2019-09-14 13:47 /user/navaro_p/.staging/job_1538570817317_0001\n",
      "-rw-r--r--   8 navaro_p hadoop     295833 2018-10-03 14:58 /user/navaro_p/.staging/job_1538570817317_0001/job.jar\n",
      "-rw-r--r--   8 navaro_p hadoop       1087 2018-10-03 14:58 /user/navaro_p/.staging/job_1538570817317_0001/job.split\n",
      "-rw-r--r--   8 navaro_p hadoop        752 2018-10-03 14:58 /user/navaro_p/.staging/job_1538570817317_0001/job.splitmetainfo\n",
      "drwx------   - navaro_p hadoop          0 2019-09-14 13:47 /user/navaro_p/.staging/job_1538570817317_0002\n",
      "-rw-r--r--   8 navaro_p hadoop     295833 2018-10-03 15:01 /user/navaro_p/.staging/job_1538570817317_0002/job.jar\n",
      "-rw-r--r--   8 navaro_p hadoop       1087 2018-10-03 15:01 /user/navaro_p/.staging/job_1538570817317_0002/job.split\n",
      "-rw-r--r--   8 navaro_p hadoop        752 2018-10-03 15:01 /user/navaro_p/.staging/job_1538570817317_0002/job.splitmetainfo\n",
      "drwx------   - navaro_p hadoop          0 2018-10-03 15:05 /user/navaro_p/.staging/job_1538570817317_0003\n",
      "-rw-r--r--   8 navaro_p hadoop     295833 2018-10-03 15:05 /user/navaro_p/.staging/job_1538570817317_0003/job.jar\n",
      "-rw-r--r--   8 navaro_p hadoop       1087 2018-10-03 15:05 /user/navaro_p/.staging/job_1538570817317_0003/job.split\n",
      "-rw-r--r--   8 navaro_p hadoop        752 2018-10-03 15:05 /user/navaro_p/.staging/job_1538570817317_0003/job.splitmetainfo\n",
      "-rw-r--r--   8 navaro_p hadoop     101970 2018-10-03 15:05 /user/navaro_p/.staging/job_1538570817317_0003/job.xml\n",
      "drwx------   - navaro_p hadoop          0 2019-09-14 13:47 /user/navaro_p/.staging/job_1538570817317_0004\n",
      "-rw-r--r--   8 navaro_p hadoop     295833 2018-10-03 15:08 /user/navaro_p/.staging/job_1538570817317_0004/job.jar\n",
      "-rw-r--r--   8 navaro_p hadoop       1087 2018-10-03 15:08 /user/navaro_p/.staging/job_1538570817317_0004/job.split\n",
      "-rw-r--r--   8 navaro_p hadoop        752 2018-10-03 15:08 /user/navaro_p/.staging/job_1538570817317_0004/job.splitmetainfo\n",
      "drwx------   - navaro_p hadoop          0 2019-09-14 13:47 /user/navaro_p/.staging/job_1538572436295_0001\n",
      "-rw-r--r--   8 navaro_p hadoop     295833 2018-10-03 15:15 /user/navaro_p/.staging/job_1538572436295_0001/job.jar\n",
      "-rw-r--r--   8 navaro_p hadoop       1305 2018-10-03 15:15 /user/navaro_p/.staging/job_1538572436295_0001/job.split\n",
      "drwx------   - navaro_p hadoop          0 2018-10-03 15:23 /user/navaro_p/.staging/job_1538572436295_0002\n",
      "-rw-r--r--   8 navaro_p hadoop     295833 2018-10-03 15:23 /user/navaro_p/.staging/job_1538572436295_0002/job.jar\n",
      "-rw-r--r--   8 navaro_p hadoop       1305 2018-10-03 15:23 /user/navaro_p/.staging/job_1538572436295_0002/job.split\n",
      "-rw-r--r--   8 navaro_p hadoop        837 2018-10-03 15:23 /user/navaro_p/.staging/job_1538572436295_0002/job.splitmetainfo\n",
      "-rw-r--r--   8 navaro_p hadoop     102002 2018-10-03 15:23 /user/navaro_p/.staging/job_1538572436295_0002/job.xml\n",
      "drwx------   - navaro_p hadoop          0 2018-10-03 15:36 /user/navaro_p/.staging/job_1538573748150_0001\n",
      "-rw-r--r--   8 navaro_p hadoop     295833 2018-10-03 15:36 /user/navaro_p/.staging/job_1538573748150_0001/job.jar\n",
      "-rw-r--r--   8 navaro_p hadoop       1305 2018-10-03 15:36 /user/navaro_p/.staging/job_1538573748150_0001/job.split\n",
      "-rw-r--r--   8 navaro_p hadoop        837 2018-10-03 15:36 /user/navaro_p/.staging/job_1538573748150_0001/job.splitmetainfo\n",
      "-rw-r--r--   8 navaro_p hadoop     102002 2018-10-03 15:36 /user/navaro_p/.staging/job_1538573748150_0001/job.xml\n",
      "drwx------   - navaro_p hadoop          0 2018-10-03 15:42 /user/navaro_p/.staging/job_1538573748150_0003\n",
      "-rw-r--r--   8 navaro_p hadoop     295833 2018-10-03 15:42 /user/navaro_p/.staging/job_1538573748150_0003/job.jar\n",
      "-rw-r--r--  10 navaro_p hadoop       1305 2018-10-03 15:42 /user/navaro_p/.staging/job_1538573748150_0003/job.split\n",
      "-rw-r--r--   8 navaro_p hadoop        837 2018-10-03 15:42 /user/navaro_p/.staging/job_1538573748150_0003/job.splitmetainfo\n",
      "-rw-r--r--   8 navaro_p hadoop     101997 2018-10-03 15:42 /user/navaro_p/.staging/job_1538573748150_0003/job.xml\n",
      "drwx------   - navaro_p hadoop          0 2018-10-03 15:46 /user/navaro_p/.staging/job_1538574358532_0001\n",
      "-rw-r--r--   8 navaro_p hadoop     295833 2018-10-03 15:46 /user/navaro_p/.staging/job_1538574358532_0001/job.jar\n",
      "-rw-r--r--   8 navaro_p hadoop       1305 2018-10-03 15:46 /user/navaro_p/.staging/job_1538574358532_0001/job.split\n",
      "-rw-r--r--   4 navaro_p hadoop        837 2018-10-03 15:46 /user/navaro_p/.staging/job_1538574358532_0001/job.splitmetainfo\n",
      "-rw-r--r--   8 navaro_p hadoop     101997 2018-10-03 15:46 /user/navaro_p/.staging/job_1538574358532_0001/job.xml\n",
      "drwx------   - navaro_p hadoop          0 2019-09-14 13:47 /user/navaro_p/.staging/job_1538574358532_0002\n",
      "-rw-r--r--   8 navaro_p hadoop     295833 2018-10-03 15:53 /user/navaro_p/.staging/job_1538574358532_0002/job.jar\n",
      "-rw-r--r--   8 navaro_p hadoop       1305 2018-10-03 15:53 /user/navaro_p/.staging/job_1538574358532_0002/job.split\n",
      "-rw-r--r--   8 navaro_p hadoop     101997 2018-10-03 15:53 /user/navaro_p/.staging/job_1538574358532_0002/job.xml\n",
      "drwx------   - navaro_p hadoop          0 2018-10-03 15:57 /user/navaro_p/.staging/job_1538574358532_0003\n",
      "-rw-r--r--   8 navaro_p hadoop     295833 2018-10-03 15:57 /user/navaro_p/.staging/job_1538574358532_0003/job.jar\n",
      "-rw-r--r--   8 navaro_p hadoop       1305 2018-10-03 15:57 /user/navaro_p/.staging/job_1538574358532_0003/job.split\n",
      "-rw-r--r--   8 navaro_p hadoop        837 2018-10-03 15:57 /user/navaro_p/.staging/job_1538574358532_0003/job.splitmetainfo\n",
      "-rw-r--r--   8 navaro_p hadoop     101997 2018-10-03 15:57 /user/navaro_p/.staging/job_1538574358532_0003/job.xml\n",
      "drwx------   - navaro_p hadoop          0 2019-09-14 13:47 /user/navaro_p/.staging/job_1538575387440_0001\n",
      "-rw-r--r--   8 navaro_p hadoop     295833 2018-10-03 16:03 /user/navaro_p/.staging/job_1538575387440_0001/job.jar\n",
      "-rw-r--r--   8 navaro_p hadoop       1305 2018-10-03 16:03 /user/navaro_p/.staging/job_1538575387440_0001/job.split\n",
      "-rw-r--r--   8 navaro_p hadoop     101997 2018-10-03 16:03 /user/navaro_p/.staging/job_1538575387440_0001/job.xml\n",
      "drwx------   - navaro_p hadoop          0 2019-09-14 13:47 /user/navaro_p/.staging/job_1538575387440_0002\n",
      "-rw-r--r--   8 navaro_p hadoop     295833 2018-10-03 16:07 /user/navaro_p/.staging/job_1538575387440_0002/job.jar\n",
      "-rw-r--r--   8 navaro_p hadoop       1305 2018-10-03 16:07 /user/navaro_p/.staging/job_1538575387440_0002/job.split\n",
      "-rw-r--r--   8 navaro_p hadoop     101997 2018-10-03 16:07 /user/navaro_p/.staging/job_1538575387440_0002/job.xml\n",
      "drwx------   - navaro_p hadoop          0 2018-10-03 16:12 /user/navaro_p/.staging/job_1538575387440_0003\n",
      "-rw-r--r--   8 navaro_p hadoop     295833 2018-10-03 16:12 /user/navaro_p/.staging/job_1538575387440_0003/job.jar\n",
      "-rw-r--r--  10 navaro_p hadoop       1305 2018-10-03 16:12 /user/navaro_p/.staging/job_1538575387440_0003/job.split\n",
      "-rw-r--r--   8 navaro_p hadoop        837 2018-10-03 16:12 /user/navaro_p/.staging/job_1538575387440_0003/job.splitmetainfo\n",
      "-rw-r--r--   8 navaro_p hadoop     101997 2018-10-03 16:12 /user/navaro_p/.staging/job_1538575387440_0003/job.xml\n",
      "drwx------   - navaro_p hadoop          0 2019-09-14 13:47 /user/navaro_p/.staging/job_1538575387440_0004\n",
      "-rw-r--r--   8 navaro_p hadoop     295833 2018-10-03 16:16 /user/navaro_p/.staging/job_1538575387440_0004/job.jar\n",
      "-rw-r--r--   8 navaro_p hadoop       1305 2018-10-03 16:16 /user/navaro_p/.staging/job_1538575387440_0004/job.split\n",
      "drwx------   - navaro_p hadoop          0 2019-09-14 13:47 /user/navaro_p/.staging/job_1539110781014_0004\n",
      "-rw-r--r--  10 navaro_p hadoop     295833 2018-10-10 10:06 /user/navaro_p/.staging/job_1539110781014_0004/job.jar\n",
      "-rw-r--r--   8 navaro_p hadoop       1305 2018-10-10 10:06 /user/navaro_p/.staging/job_1539110781014_0004/job.split\n",
      "-rw-r--r--   8 navaro_p hadoop        837 2018-10-10 10:06 /user/navaro_p/.staging/job_1539110781014_0004/job.splitmetainfo\n",
      "-rw-r--r--   8 navaro_p hadoop     102003 2018-10-10 10:06 /user/navaro_p/.staging/job_1539110781014_0004/job.xml\n",
      "-rw-r--r--   8 navaro_p hadoop     121266 2018-10-10 10:06 /user/navaro_p/.staging/job_1539110781014_0004/job_1539110781014_0004_1_conf.xml\n",
      "drwx------   - navaro_p hadoop          0 2018-10-10 10:31 /user/navaro_p/.staging/job_1539110781014_0006\n",
      "-rw-r--r--   8 navaro_p hadoop     295833 2018-10-10 10:31 /user/navaro_p/.staging/job_1539110781014_0006/job.jar\n",
      "-rw-r--r--   8 navaro_p hadoop       1305 2018-10-10 10:31 /user/navaro_p/.staging/job_1539110781014_0006/job.split\n",
      "-rw-r--r--   8 navaro_p hadoop        837 2018-10-10 10:31 /user/navaro_p/.staging/job_1539110781014_0006/job.splitmetainfo\n",
      "-rw-r--r--   4 navaro_p hadoop     101990 2018-10-10 10:31 /user/navaro_p/.staging/job_1539110781014_0006/job.xml\n",
      "-rw-r--r--   8 navaro_p hadoop      77542 2018-10-10 10:38 /user/navaro_p/.staging/job_1539110781014_0006/job_1539110781014_0006_1.jhist\n",
      "-rw-r--r--   8 navaro_p hadoop     121253 2018-10-10 10:31 /user/navaro_p/.staging/job_1539110781014_0006/job_1539110781014_0006_1_conf.xml\n",
      "drwxr-xr-x   - navaro_p hadoop          0 2019-11-05 12:16 /user/navaro_p/input\n",
      "-rw-r--r--   4 navaro_p hadoop        858 2019-11-05 12:16 /user/navaro_p/input/sample01.txt\n",
      "-rw-r--r--   4 navaro_p hadoop       1481 2019-11-05 12:16 /user/navaro_p/input/sample02.txt\n",
      "-rw-r--r--   4 navaro_p hadoop        810 2019-11-05 12:16 /user/navaro_p/input/sample03.txt\n",
      "-rw-r--r--   4 navaro_p hadoop       1367 2019-11-05 12:16 /user/navaro_p/input/sample04.txt\n",
      "-rw-r--r--   4 navaro_p hadoop       1864 2019-11-05 12:16 /user/navaro_p/input/sample05.txt\n",
      "-rw-r--r--   4 navaro_p hadoop        987 2019-11-05 12:16 /user/navaro_p/input/sample06.txt\n",
      "-rw-r--r--   4 navaro_p hadoop       2125 2019-11-05 12:16 /user/navaro_p/input/sample07.txt\n",
      "-rw-r--r--   4 navaro_p hadoop        950 2019-11-05 12:16 /user/navaro_p/input/sample08.txt\n",
      "-rw-r--r--   4 navaro_p hadoop       1569 2019-11-05 12:16 /user/navaro_p/input/sample09.txt\n",
      "drwxr-xr-x   - navaro_p hadoop          0 2018-10-09 21:36 /user/navaro_p/nyc-taxi\n",
      "drwxr-xr-x   - navaro_p hadoop          0 2019-09-14 13:47 /user/navaro_p/nyc-taxi/2009.parquet\n",
      "-rw-r--r--   2 navaro_p hadoop          0 2018-10-09 20:39 /user/navaro_p/nyc-taxi/2009.parquet/_SUCCESS\n",
      "-rw-r--r--   8 navaro_p hadoop       1773 2018-10-09 20:39 /user/navaro_p/nyc-taxi/2009.parquet/_common_metadata\n",
      "-rw-r--r--   8 navaro_p hadoop   23284395 2018-10-09 20:37 /user/navaro_p/nyc-taxi/2009.parquet/part-00001-4322624b-ecf6-4576-ada8-e9562fcd526e-c000.snappy.parquet\n",
      "-rw-r--r--   8 navaro_p hadoop   23316124 2018-10-09 20:36 /user/navaro_p/nyc-taxi/2009.parquet/part-00002-4322624b-ecf6-4576-ada8-e9562fcd526e-c000.snappy.parquet\n",
      "-rw-r--r--   8 navaro_p hadoop   23256852 2018-10-09 20:36 /user/navaro_p/nyc-taxi/2009.parquet/part-00005-4322624b-ecf6-4576-ada8-e9562fcd526e-c000.snappy.parquet\n",
      "-rw-r--r--   8 navaro_p hadoop   23277949 2018-10-09 20:36 /user/navaro_p/nyc-taxi/2009.parquet/part-00007-4322624b-ecf6-4576-ada8-e9562fcd526e-c000.snappy.parquet\n",
      "-rw-r--r--   2 navaro_p hadoop   23302404 2018-10-09 20:35 /user/navaro_p/nyc-taxi/2009.parquet/part-00008-4322624b-ecf6-4576-ada8-e9562fcd526e-c000.snappy.parquet\n",
      "-rw-r--r--   8 navaro_p hadoop   23327515 2018-10-09 20:36 /user/navaro_p/nyc-taxi/2009.parquet/part-00016-4322624b-ecf6-4576-ada8-e9562fcd526e-c000.snappy.parquet\n",
      "-rw-r--r--   8 navaro_p hadoop   23261702 2018-10-09 20:36 /user/navaro_p/nyc-taxi/2009.parquet/part-00021-4322624b-ecf6-4576-ada8-e9562fcd526e-c000.snappy.parquet\n",
      "-rw-r--r--   2 navaro_p hadoop   23151380 2018-10-09 20:36 /user/navaro_p/nyc-taxi/2009.parquet/part-00022-4322624b-ecf6-4576-ada8-e9562fcd526e-c000.snappy.parquet\n",
      "-rw-r--r--   8 navaro_p hadoop   23488705 2018-10-09 20:37 /user/navaro_p/nyc-taxi/2009.parquet/part-00023-4322624b-ecf6-4576-ada8-e9562fcd526e-c000.snappy.parquet\n",
      "-rw-r--r--   2 navaro_p hadoop   23300026 2018-10-09 20:36 /user/navaro_p/nyc-taxi/2009.parquet/part-00026-4322624b-ecf6-4576-ada8-e9562fcd526e-c000.snappy.parquet\n",
      "-rw-r--r--   8 navaro_p hadoop   23373781 2018-10-09 20:36 /user/navaro_p/nyc-taxi/2009.parquet/part-00032-4322624b-ecf6-4576-ada8-e9562fcd526e-c000.snappy.parquet\n",
      "-rw-r--r--   8 navaro_p hadoop   23356014 2018-10-09 20:36 /user/navaro_p/nyc-taxi/2009.parquet/part-00035-4322624b-ecf6-4576-ada8-e9562fcd526e-c000.snappy.parquet\n",
      "-rw-r--r--   2 navaro_p hadoop   23297051 2018-10-09 20:35 /user/navaro_p/nyc-taxi/2009.parquet/part-00036-4322624b-ecf6-4576-ada8-e9562fcd526e-c000.snappy.parquet\n",
      "-rw-r--r--   8 navaro_p hadoop   23732457 2018-10-09 20:36 /user/navaro_p/nyc-taxi/2009.parquet/part-00039-4322624b-ecf6-4576-ada8-e9562fcd526e-c000.snappy.parquet\n",
      "-rw-r--r--   8 navaro_p hadoop   23751771 2018-10-09 20:36 /user/navaro_p/nyc-taxi/2009.parquet/part-00041-4322624b-ecf6-4576-ada8-e9562fcd526e-c000.snappy.parquet\n",
      "-rw-r--r--   8 navaro_p hadoop   23660483 2018-10-09 20:35 /user/navaro_p/nyc-taxi/2009.parquet/part-00044-4322624b-ecf6-4576-ada8-e9562fcd526e-c000.snappy.parquet\n",
      "-rw-r--r--   8 navaro_p hadoop   23662396 2018-10-09 20:37 /user/navaro_p/nyc-taxi/2009.parquet/part-00056-4322624b-ecf6-4576-ada8-e9562fcd526e-c000.snappy.parquet\n",
      "-rw-r--r--   8 navaro_p hadoop   23796650 2018-10-09 20:35 /user/navaro_p/nyc-taxi/2009.parquet/part-00059-4322624b-ecf6-4576-ada8-e9562fcd526e-c000.snappy.parquet\n",
      "-rw-r--r--   8 navaro_p hadoop   23229560 2018-10-09 20:35 /user/navaro_p/nyc-taxi/2009.parquet/part-00061-4322624b-ecf6-4576-ada8-e9562fcd526e-c000.snappy.parquet\n",
      "-rw-r--r--   8 navaro_p hadoop   23591752 2018-10-09 20:36 /user/navaro_p/nyc-taxi/2009.parquet/part-00062-4322624b-ecf6-4576-ada8-e9562fcd526e-c000.snappy.parquet\n",
      "-rw-r--r--   8 navaro_p hadoop   23634723 2018-10-09 20:36 /user/navaro_p/nyc-taxi/2009.parquet/part-00063-4322624b-ecf6-4576-ada8-e9562fcd526e-c000.snappy.parquet\n",
      "-rw-r--r--   8 navaro_p hadoop   23420741 2018-10-09 20:37 /user/navaro_p/nyc-taxi/2009.parquet/part-00070-4322624b-ecf6-4576-ada8-e9562fcd526e-c000.snappy.parquet\n",
      "-rw-r--r--   8 navaro_p hadoop   23298489 2018-10-09 20:37 /user/navaro_p/nyc-taxi/2009.parquet/part-00075-4322624b-ecf6-4576-ada8-e9562fcd526e-c000.snappy.parquet\n",
      "-rw-r--r--   8 navaro_p hadoop   23435089 2018-10-09 20:35 /user/navaro_p/nyc-taxi/2009.parquet/part-00076-4322624b-ecf6-4576-ada8-e9562fcd526e-c000.snappy.parquet\n",
      "-rw-r--r--   8 navaro_p hadoop   23691270 2018-10-09 20:35 /user/navaro_p/nyc-taxi/2009.parquet/part-00082-4322624b-ecf6-4576-ada8-e9562fcd526e-c000.snappy.parquet\n",
      "-rw-r--r--   2 navaro_p hadoop   23710587 2018-10-09 20:36 /user/navaro_p/nyc-taxi/2009.parquet/part-00083-4322624b-ecf6-4576-ada8-e9562fcd526e-c000.snappy.parquet\n",
      "-rw-r--r--   8 navaro_p hadoop   23720627 2018-10-09 20:36 /user/navaro_p/nyc-taxi/2009.parquet/part-00086-4322624b-ecf6-4576-ada8-e9562fcd526e-c000.snappy.parquet\n",
      "-rw-r--r--   8 navaro_p hadoop   23738732 2018-10-09 20:36 /user/navaro_p/nyc-taxi/2009.parquet/part-00087-4322624b-ecf6-4576-ada8-e9562fcd526e-c000.snappy.parquet\n",
      "-rw-r--r--   8 navaro_p hadoop   23764432 2018-10-09 20:36 /user/navaro_p/nyc-taxi/2009.parquet/part-00096-4322624b-ecf6-4576-ada8-e9562fcd526e-c000.snappy.parquet\n",
      "-rw-r--r--   8 navaro_p hadoop   23208866 2018-10-09 20:35 /user/navaro_p/nyc-taxi/2009.parquet/part-00101-4322624b-ecf6-4576-ada8-e9562fcd526e-c000.snappy.parquet\n",
      "-rw-r--r--   8 navaro_p hadoop   23153045 2018-10-09 20:36 /user/navaro_p/nyc-taxi/2009.parquet/part-00104-4322624b-ecf6-4576-ada8-e9562fcd526e-c000.snappy.parquet\n",
      "-rw-r--r--   8 navaro_p hadoop   23528053 2018-10-09 20:36 /user/navaro_p/nyc-taxi/2009.parquet/part-00106-4322624b-ecf6-4576-ada8-e9562fcd526e-c000.snappy.parquet\n",
      "-rw-r--r--   8 navaro_p hadoop   23314513 2018-10-09 20:36 /user/navaro_p/nyc-taxi/2009.parquet/part-00110-4322624b-ecf6-4576-ada8-e9562fcd526e-c000.snappy.parquet\n",
      "-rw-r--r--   2 navaro_p hadoop   23410765 2018-10-09 20:36 /user/navaro_p/nyc-taxi/2009.parquet/part-00111-4322624b-ecf6-4576-ada8-e9562fcd526e-c000.snappy.parquet\n",
      "-rw-r--r--   2 navaro_p hadoop   23059178 2018-10-09 20:35 /user/navaro_p/nyc-taxi/2009.parquet/part-00112-4322624b-ecf6-4576-ada8-e9562fcd526e-c000.snappy.parquet\n",
      "-rw-r--r--   8 navaro_p hadoop   23309289 2018-10-09 20:35 /user/navaro_p/nyc-taxi/2009.parquet/part-00116-4322624b-ecf6-4576-ada8-e9562fcd526e-c000.snappy.parquet\n",
      "-rw-r--r--   2 navaro_p hadoop   23219999 2018-10-09 20:36 /user/navaro_p/nyc-taxi/2009.parquet/part-00117-4322624b-ecf6-4576-ada8-e9562fcd526e-c000.snappy.parquet\n",
      "-rw-r--r--   8 navaro_p hadoop   23285105 2018-10-09 20:36 /user/navaro_p/nyc-taxi/2009.parquet/part-00122-4322624b-ecf6-4576-ada8-e9562fcd526e-c000.snappy.parquet\n",
      "-rw-r--r--   8 navaro_p hadoop   23287017 2018-10-09 20:35 /user/navaro_p/nyc-taxi/2009.parquet/part-00124-4322624b-ecf6-4576-ada8-e9562fcd526e-c000.snappy.parquet\n",
      "-rw-r--r--   8 navaro_p hadoop   23377298 2018-10-09 20:37 /user/navaro_p/nyc-taxi/2009.parquet/part-00125-4322624b-ecf6-4576-ada8-e9562fcd526e-c000.snappy.parquet\n",
      "-rw-r--r--   8 navaro_p hadoop   23332169 2018-10-09 20:37 /user/navaro_p/nyc-taxi/2009.parquet/part-00135-4322624b-ecf6-4576-ada8-e9562fcd526e-c000.snappy.parquet\n",
      "-rw-r--r--   2 navaro_p hadoop   23550023 2018-10-09 20:37 /user/navaro_p/nyc-taxi/2009.parquet/part-00137-4322624b-ecf6-4576-ada8-e9562fcd526e-c000.snappy.parquet\n",
      "-rw-r--r--   8 navaro_p hadoop   23501054 2018-10-09 20:36 /user/navaro_p/nyc-taxi/2009.parquet/part-00140-4322624b-ecf6-4576-ada8-e9562fcd526e-c000.snappy.parquet\n",
      "-rw-r--r--   8 navaro_p hadoop   23529659 2018-10-09 20:36 /user/navaro_p/nyc-taxi/2009.parquet/part-00143-4322624b-ecf6-4576-ada8-e9562fcd526e-c000.snappy.parquet\n",
      "-rw-r--r--   2 navaro_p hadoop   23553375 2018-10-09 20:35 /user/navaro_p/nyc-taxi/2009.parquet/part-00145-4322624b-ecf6-4576-ada8-e9562fcd526e-c000.snappy.parquet\n",
      "-rw-r--r--   8 navaro_p hadoop   23445790 2018-10-09 20:35 /user/navaro_p/nyc-taxi/2009.parquet/part-00148-4322624b-ecf6-4576-ada8-e9562fcd526e-c000.snappy.parquet\n",
      "-rw-r--r--   2 navaro_p hadoop   23564068 2018-10-09 20:36 /user/navaro_p/nyc-taxi/2009.parquet/part-00151-4322624b-ecf6-4576-ada8-e9562fcd526e-c000.snappy.parquet\n",
      "-rw-r--r--   2 navaro_p hadoop   23603207 2018-10-09 20:37 /user/navaro_p/nyc-taxi/2009.parquet/part-00154-4322624b-ecf6-4576-ada8-e9562fcd526e-c000.snappy.parquet\n",
      "-rw-r--r--   2 navaro_p hadoop   23649681 2018-10-09 20:36 /user/navaro_p/nyc-taxi/2009.parquet/part-00159-4322624b-ecf6-4576-ada8-e9562fcd526e-c000.snappy.parquet\n",
      "-rw-r--r--   2 navaro_p hadoop   23608736 2018-10-09 20:37 /user/navaro_p/nyc-taxi/2009.parquet/part-00160-4322624b-ecf6-4576-ada8-e9562fcd526e-c000.snappy.parquet\n",
      "-rw-r--r--   8 navaro_p hadoop   23608256 2018-10-09 20:36 /user/navaro_p/nyc-taxi/2009.parquet/part-00162-4322624b-ecf6-4576-ada8-e9562fcd526e-c000.snappy.parquet\n",
      "-rw-r--r--   2 navaro_p hadoop   23630889 2018-10-09 20:36 /user/navaro_p/nyc-taxi/2009.parquet/part-00169-4322624b-ecf6-4576-ada8-e9562fcd526e-c000.snappy.parquet\n",
      "-rw-r--r--   8 navaro_p hadoop   23702836 2018-10-09 20:36 /user/navaro_p/nyc-taxi/2009.parquet/part-00172-4322624b-ecf6-4576-ada8-e9562fcd526e-c000.snappy.parquet\n",
      "-rw-r--r--   8 navaro_p hadoop   23628110 2018-10-09 20:37 /user/navaro_p/nyc-taxi/2009.parquet/part-00173-4322624b-ecf6-4576-ada8-e9562fcd526e-c000.snappy.parquet\n",
      "-rw-r--r--   2 navaro_p hadoop   23577528 2018-10-09 20:35 /user/navaro_p/nyc-taxi/2009.parquet/part-00176-4322624b-ecf6-4576-ada8-e9562fcd526e-c000.snappy.parquet\n",
      "-rw-r--r--   8 navaro_p hadoop   23480073 2018-10-09 20:36 /user/navaro_p/nyc-taxi/2009.parquet/part-00179-4322624b-ecf6-4576-ada8-e9562fcd526e-c000.snappy.parquet\n",
      "-rw-r--r--   8 navaro_p hadoop   23492920 2018-10-09 20:36 /user/navaro_p/nyc-taxi/2009.parquet/part-00183-4322624b-ecf6-4576-ada8-e9562fcd526e-c000.snappy.parquet\n",
      "-rw-r--r--   2 navaro_p hadoop   23501722 2018-10-09 20:37 /user/navaro_p/nyc-taxi/2009.parquet/part-00185-4322624b-ecf6-4576-ada8-e9562fcd526e-c000.snappy.parquet\n",
      "-rw-r--r--   8 navaro_p hadoop   23535930 2018-10-09 20:36 /user/navaro_p/nyc-taxi/2009.parquet/part-00189-4322624b-ecf6-4576-ada8-e9562fcd526e-c000.snappy.parquet\n",
      "-rw-r--r--   8 navaro_p hadoop   23558453 2018-10-09 20:36 /user/navaro_p/nyc-taxi/2009.parquet/part-00190-4322624b-ecf6-4576-ada8-e9562fcd526e-c000.snappy.parquet\n",
      "-rw-r--r--   8 navaro_p hadoop   23439593 2018-10-09 20:35 /user/navaro_p/nyc-taxi/2009.parquet/part-00192-4322624b-ecf6-4576-ada8-e9562fcd526e-c000.snappy.parquet\n",
      "-rw-r--r--   8 navaro_p hadoop   23577099 2018-10-09 20:36 /user/navaro_p/nyc-taxi/2009.parquet/part-00193-4322624b-ecf6-4576-ada8-e9562fcd526e-c000.snappy.parquet\n",
      "-rw-r--r--   8 navaro_p hadoop   23539051 2018-10-09 20:36 /user/navaro_p/nyc-taxi/2009.parquet/part-00194-4322624b-ecf6-4576-ada8-e9562fcd526e-c000.snappy.parquet\n",
      "-rw-r--r--   8 navaro_p hadoop   23384019 2018-10-09 20:35 /user/navaro_p/nyc-taxi/2009.parquet/part-00195-4322624b-ecf6-4576-ada8-e9562fcd526e-c000.snappy.parquet\n",
      "-rw-r--r--   8 navaro_p hadoop   23566449 2018-10-09 20:36 /user/navaro_p/nyc-taxi/2009.parquet/part-00196-4322624b-ecf6-4576-ada8-e9562fcd526e-c000.snappy.parquet\n",
      "-rw-r--r--   8 navaro_p hadoop   23196227 2018-10-09 20:35 /user/navaro_p/nyc-taxi/2009.parquet/part-00198-4322624b-ecf6-4576-ada8-e9562fcd526e-c000.snappy.parquet\n",
      "-rw-r--r--   8 navaro_p hadoop   23230713 2018-10-09 20:35 /user/navaro_p/nyc-taxi/2009.parquet/part-00199-4322624b-ecf6-4576-ada8-e9562fcd526e-c000.snappy.parquet\n",
      "-rw-r--r--   8 navaro_p hadoop   23269566 2018-10-09 20:36 /user/navaro_p/nyc-taxi/2009.parquet/part-00204-4322624b-ecf6-4576-ada8-e9562fcd526e-c000.snappy.parquet\n",
      "-rw-r--r--   8 navaro_p hadoop   23178213 2018-10-09 20:35 /user/navaro_p/nyc-taxi/2009.parquet/part-00206-4322624b-ecf6-4576-ada8-e9562fcd526e-c000.snappy.parquet\n",
      "-rw-r--r--   8 navaro_p hadoop   23118047 2018-10-09 20:38 /user/navaro_p/nyc-taxi/2009.parquet/part-00207-4322624b-ecf6-4576-ada8-e9562fcd526e-c000.snappy.parquet\n",
      "-rw-r--r--   2 navaro_p hadoop   23298322 2018-10-09 20:37 /user/navaro_p/nyc-taxi/2009.parquet/part-00208-4322624b-ecf6-4576-ada8-e9562fcd526e-c000.snappy.parquet\n",
      "-rw-r--r--   2 navaro_p hadoop   23123061 2018-10-09 20:37 /user/navaro_p/nyc-taxi/2009.parquet/part-00211-4322624b-ecf6-4576-ada8-e9562fcd526e-c000.snappy.parquet\n",
      "-rw-r--r--   2 navaro_p hadoop   23153342 2018-10-09 20:39 /user/navaro_p/nyc-taxi/2009.parquet/part-00213-4322624b-ecf6-4576-ada8-e9562fcd526e-c000.snappy.parquet\n",
      "-rw-r--r--   8 navaro_p hadoop   22879413 2018-10-09 20:38 /user/navaro_p/nyc-taxi/2009.parquet/part-00222-4322624b-ecf6-4576-ada8-e9562fcd526e-c000.snappy.parquet\n",
      "-rw-r--r--   2 navaro_p hadoop   23118529 2018-10-09 20:38 /user/navaro_p/nyc-taxi/2009.parquet/part-00227-4322624b-ecf6-4576-ada8-e9562fcd526e-c000.snappy.parquet\n",
      "-rw-r--r--   8 navaro_p hadoop   23057771 2018-10-09 20:39 /user/navaro_p/nyc-taxi/2009.parquet/part-00228-4322624b-ecf6-4576-ada8-e9562fcd526e-c000.snappy.parquet\n",
      "-rw-r--r--   2 navaro_p hadoop   23157596 2018-10-09 20:39 /user/navaro_p/nyc-taxi/2009.parquet/part-00233-4322624b-ecf6-4576-ada8-e9562fcd526e-c000.snappy.parquet\n",
      "-rw-r--r--   8 navaro_p hadoop   23108804 2018-10-09 20:39 /user/navaro_p/nyc-taxi/2009.parquet/part-00235-4322624b-ecf6-4576-ada8-e9562fcd526e-c000.snappy.parquet\n",
      "-rw-r--r--   8 navaro_p hadoop   23093847 2018-10-09 20:36 /user/navaro_p/nyc-taxi/2009.parquet/part-00237-4322624b-ecf6-4576-ada8-e9562fcd526e-c000.snappy.parquet\n",
      "-rw-r--r--   8 navaro_p hadoop   21677715 2018-10-09 20:39 /user/navaro_p/nyc-taxi/2009.parquet/part-00242-4322624b-ecf6-4576-ada8-e9562fcd526e-c000.snappy.parquet\n",
      "drwxr-xr-x   - navaro_p hadoop          0 2019-09-14 13:47 /user/navaro_p/nyc-taxi/2010.parquet\n",
      "-rw-r--r--   2 navaro_p hadoop          0 2018-10-09 20:58 /user/navaro_p/nyc-taxi/2010.parquet/_SUCCESS\n",
      "-rw-r--r--   8 navaro_p hadoop       1841 2018-10-09 20:58 /user/navaro_p/nyc-taxi/2010.parquet/_common_metadata\n",
      "-rw-r--r--   2 navaro_p hadoop     640631 2018-10-09 20:58 /user/navaro_p/nyc-taxi/2010.parquet/_metadata\n",
      "-rw-r--r--   8 navaro_p hadoop   25515007 2018-10-09 20:52 /user/navaro_p/nyc-taxi/2010.parquet/part-00004-f2af1e63-c0e6-469d-94e9-900e00e05cb6-c000.snappy.parquet\n",
      "-rw-r--r--   8 navaro_p hadoop   25159967 2018-10-09 20:52 /user/navaro_p/nyc-taxi/2010.parquet/part-00006-f2af1e63-c0e6-469d-94e9-900e00e05cb6-c000.snappy.parquet\n",
      "-rw-r--r--   8 navaro_p hadoop   25541416 2018-10-09 20:52 /user/navaro_p/nyc-taxi/2010.parquet/part-00007-f2af1e63-c0e6-469d-94e9-900e00e05cb6-c000.snappy.parquet\n",
      "-rw-r--r--   8 navaro_p hadoop   25536407 2018-10-09 20:52 /user/navaro_p/nyc-taxi/2010.parquet/part-00014-f2af1e63-c0e6-469d-94e9-900e00e05cb6-c000.snappy.parquet\n",
      "-rw-r--r--   8 navaro_p hadoop   25540894 2018-10-09 20:52 /user/navaro_p/nyc-taxi/2010.parquet/part-00017-f2af1e63-c0e6-469d-94e9-900e00e05cb6-c000.snappy.parquet\n",
      "-rw-r--r--   8 navaro_p hadoop   16331958 2018-10-09 20:52 /user/navaro_p/nyc-taxi/2010.parquet/part-00022-f2af1e63-c0e6-469d-94e9-900e00e05cb6-c000.snappy.parquet\n",
      "-rw-r--r--   8 navaro_p hadoop   22156418 2018-10-09 20:52 /user/navaro_p/nyc-taxi/2010.parquet/part-00023-f2af1e63-c0e6-469d-94e9-900e00e05cb6-c000.snappy.parquet\n",
      "-rw-r--r--   2 navaro_p hadoop   25300837 2018-10-09 20:53 /user/navaro_p/nyc-taxi/2010.parquet/part-00026-f2af1e63-c0e6-469d-94e9-900e00e05cb6-c000.snappy.parquet\n",
      "-rw-r--r--   8 navaro_p hadoop   25298064 2018-10-09 20:52 /user/navaro_p/nyc-taxi/2010.parquet/part-00027-f2af1e63-c0e6-469d-94e9-900e00e05cb6-c000.snappy.parquet\n",
      "-rw-r--r--   2 navaro_p hadoop   25352956 2018-10-09 20:52 /user/navaro_p/nyc-taxi/2010.parquet/part-00028-f2af1e63-c0e6-469d-94e9-900e00e05cb6-c000.snappy.parquet\n",
      "-rw-r--r--   8 navaro_p hadoop   25326471 2018-10-09 20:52 /user/navaro_p/nyc-taxi/2010.parquet/part-00029-f2af1e63-c0e6-469d-94e9-900e00e05cb6-c000.snappy.parquet\n",
      "-rw-r--r--   8 navaro_p hadoop   25202780 2018-10-09 20:52 /user/navaro_p/nyc-taxi/2010.parquet/part-00030-f2af1e63-c0e6-469d-94e9-900e00e05cb6-c000.snappy.parquet\n",
      "-rw-r--r--   8 navaro_p hadoop   22066621 2018-10-09 20:53 /user/navaro_p/nyc-taxi/2010.parquet/part-00034-f2af1e63-c0e6-469d-94e9-900e00e05cb6-c000.snappy.parquet\n",
      "-rw-r--r--   8 navaro_p hadoop   16507398 2018-10-09 20:52 /user/navaro_p/nyc-taxi/2010.parquet/part-00037-f2af1e63-c0e6-469d-94e9-900e00e05cb6-c000.snappy.parquet\n",
      "-rw-r--r--   8 navaro_p hadoop   23757886 2018-10-09 20:53 /user/navaro_p/nyc-taxi/2010.parquet/part-00040-f2af1e63-c0e6-469d-94e9-900e00e05cb6-c000.snappy.parquet\n",
      "-rw-r--r--   8 navaro_p hadoop   25905570 2018-10-09 20:53 /user/navaro_p/nyc-taxi/2010.parquet/part-00047-f2af1e63-c0e6-469d-94e9-900e00e05cb6-c000.snappy.parquet\n",
      "-rw-r--r--   8 navaro_p hadoop   25973053 2018-10-09 20:53 /user/navaro_p/nyc-taxi/2010.parquet/part-00048-f2af1e63-c0e6-469d-94e9-900e00e05cb6-c000.snappy.parquet\n",
      "-rw-r--r--   8 navaro_p hadoop   16337267 2018-10-09 20:53 /user/navaro_p/nyc-taxi/2010.parquet/part-00051-f2af1e63-c0e6-469d-94e9-900e00e05cb6-c000.snappy.parquet\n",
      "-rw-r--r--   8 navaro_p hadoop   25745882 2018-10-09 20:53 /user/navaro_p/nyc-taxi/2010.parquet/part-00055-f2af1e63-c0e6-469d-94e9-900e00e05cb6-c000.snappy.parquet\n",
      "-rw-r--r--   8 navaro_p hadoop   25749592 2018-10-09 20:53 /user/navaro_p/nyc-taxi/2010.parquet/part-00056-f2af1e63-c0e6-469d-94e9-900e00e05cb6-c000.snappy.parquet\n",
      "-rw-r--r--   8 navaro_p hadoop   25760517 2018-10-09 20:54 /user/navaro_p/nyc-taxi/2010.parquet/part-00059-f2af1e63-c0e6-469d-94e9-900e00e05cb6-c000.snappy.parquet\n",
      "-rw-r--r--   8 navaro_p hadoop   25752832 2018-10-09 20:53 /user/navaro_p/nyc-taxi/2010.parquet/part-00069-f2af1e63-c0e6-469d-94e9-900e00e05cb6-c000.snappy.parquet\n",
      "-rw-r--r--   8 navaro_p hadoop   25753585 2018-10-09 20:53 /user/navaro_p/nyc-taxi/2010.parquet/part-00072-f2af1e63-c0e6-469d-94e9-900e00e05cb6-c000.snappy.parquet\n",
      "-rw-r--r--   8 navaro_p hadoop   25750540 2018-10-09 20:53 /user/navaro_p/nyc-taxi/2010.parquet/part-00073-f2af1e63-c0e6-469d-94e9-900e00e05cb6-c000.snappy.parquet\n",
      "-rw-r--r--   2 navaro_p hadoop   25772496 2018-10-09 20:54 /user/navaro_p/nyc-taxi/2010.parquet/part-00083-f2af1e63-c0e6-469d-94e9-900e00e05cb6-c000.snappy.parquet\n",
      "-rw-r--r--   8 navaro_p hadoop   25763432 2018-10-09 20:54 /user/navaro_p/nyc-taxi/2010.parquet/part-00087-f2af1e63-c0e6-469d-94e9-900e00e05cb6-c000.snappy.parquet\n",
      "-rw-r--r--   2 navaro_p hadoop   25781892 2018-10-09 20:54 /user/navaro_p/nyc-taxi/2010.parquet/part-00090-f2af1e63-c0e6-469d-94e9-900e00e05cb6-c000.snappy.parquet\n",
      "-rw-r--r--   8 navaro_p hadoop   25784982 2018-10-09 20:54 /user/navaro_p/nyc-taxi/2010.parquet/part-00091-f2af1e63-c0e6-469d-94e9-900e00e05cb6-c000.snappy.parquet\n",
      "-rw-r--r--   8 navaro_p hadoop   25796649 2018-10-09 20:54 /user/navaro_p/nyc-taxi/2010.parquet/part-00092-f2af1e63-c0e6-469d-94e9-900e00e05cb6-c000.snappy.parquet\n",
      "-rw-r--r--   8 navaro_p hadoop   25690344 2018-10-09 20:54 /user/navaro_p/nyc-taxi/2010.parquet/part-00105-f2af1e63-c0e6-469d-94e9-900e00e05cb6-c000.snappy.parquet\n",
      "-rw-r--r--   8 navaro_p hadoop   25760004 2018-10-09 20:55 /user/navaro_p/nyc-taxi/2010.parquet/part-00109-f2af1e63-c0e6-469d-94e9-900e00e05cb6-c000.snappy.parquet\n",
      "-rw-r--r--   8 navaro_p hadoop   25756426 2018-10-09 20:55 /user/navaro_p/nyc-taxi/2010.parquet/part-00112-f2af1e63-c0e6-469d-94e9-900e00e05cb6-c000.snappy.parquet\n",
      "-rw-r--r--   8 navaro_p hadoop   25681432 2018-10-09 20:55 /user/navaro_p/nyc-taxi/2010.parquet/part-00115-f2af1e63-c0e6-469d-94e9-900e00e05cb6-c000.snappy.parquet\n",
      "-rw-r--r--   8 navaro_p hadoop   25717679 2018-10-09 20:55 /user/navaro_p/nyc-taxi/2010.parquet/part-00118-f2af1e63-c0e6-469d-94e9-900e00e05cb6-c000.snappy.parquet\n",
      "-rw-r--r--   8 navaro_p hadoop   25758479 2018-10-09 20:55 /user/navaro_p/nyc-taxi/2010.parquet/part-00122-f2af1e63-c0e6-469d-94e9-900e00e05cb6-c000.snappy.parquet\n",
      "-rw-r--r--   8 navaro_p hadoop   25746126 2018-10-09 20:55 /user/navaro_p/nyc-taxi/2010.parquet/part-00126-f2af1e63-c0e6-469d-94e9-900e00e05cb6-c000.snappy.parquet\n",
      "-rw-r--r--   8 navaro_p hadoop   25654300 2018-10-09 20:55 /user/navaro_p/nyc-taxi/2010.parquet/part-00131-f2af1e63-c0e6-469d-94e9-900e00e05cb6-c000.snappy.parquet\n",
      "-rw-r--r--   2 navaro_p hadoop   22479220 2018-10-09 20:55 /user/navaro_p/nyc-taxi/2010.parquet/part-00140-f2af1e63-c0e6-469d-94e9-900e00e05cb6-c000.snappy.parquet\n",
      "-rw-r--r--   8 navaro_p hadoop   24345868 2018-10-09 20:56 /user/navaro_p/nyc-taxi/2010.parquet/part-00153-f2af1e63-c0e6-469d-94e9-900e00e05cb6-c000.snappy.parquet\n",
      "-rw-r--r--   8 navaro_p hadoop   24229736 2018-10-09 20:56 /user/navaro_p/nyc-taxi/2010.parquet/part-00154-f2af1e63-c0e6-469d-94e9-900e00e05cb6-c000.snappy.parquet\n",
      "-rw-r--r--   8 navaro_p hadoop   23756461 2018-10-09 20:56 /user/navaro_p/nyc-taxi/2010.parquet/part-00156-f2af1e63-c0e6-469d-94e9-900e00e05cb6-c000.snappy.parquet\n",
      "-rw-r--r--   2 navaro_p hadoop   22912543 2018-10-09 20:56 /user/navaro_p/nyc-taxi/2010.parquet/part-00159-f2af1e63-c0e6-469d-94e9-900e00e05cb6-c000.snappy.parquet\n",
      "-rw-r--r--   2 navaro_p hadoop   24108709 2018-10-09 20:56 /user/navaro_p/nyc-taxi/2010.parquet/part-00161-f2af1e63-c0e6-469d-94e9-900e00e05cb6-c000.snappy.parquet\n",
      "-rw-r--r--   2 navaro_p hadoop   24021492 2018-10-09 20:56 /user/navaro_p/nyc-taxi/2010.parquet/part-00165-f2af1e63-c0e6-469d-94e9-900e00e05cb6-c000.snappy.parquet\n",
      "-rw-r--r--   2 navaro_p hadoop   23647310 2018-10-09 20:56 /user/navaro_p/nyc-taxi/2010.parquet/part-00173-f2af1e63-c0e6-469d-94e9-900e00e05cb6-c000.snappy.parquet\n",
      "-rw-r--r--   8 navaro_p hadoop   23789090 2018-10-09 20:56 /user/navaro_p/nyc-taxi/2010.parquet/part-00174-f2af1e63-c0e6-469d-94e9-900e00e05cb6-c000.snappy.parquet\n",
      "-rw-r--r--   8 navaro_p hadoop   23795252 2018-10-09 20:56 /user/navaro_p/nyc-taxi/2010.parquet/part-00180-f2af1e63-c0e6-469d-94e9-900e00e05cb6-c000.snappy.parquet\n",
      "-rw-r--r--   8 navaro_p hadoop   23669008 2018-10-09 20:56 /user/navaro_p/nyc-taxi/2010.parquet/part-00181-f2af1e63-c0e6-469d-94e9-900e00e05cb6-c000.snappy.parquet\n",
      "-rw-r--r--   8 navaro_p hadoop   23698671 2018-10-09 20:57 /user/navaro_p/nyc-taxi/2010.parquet/part-00184-f2af1e63-c0e6-469d-94e9-900e00e05cb6-c000.snappy.parquet\n",
      "-rw-r--r--   8 navaro_p hadoop   23832420 2018-10-09 20:57 /user/navaro_p/nyc-taxi/2010.parquet/part-00188-f2af1e63-c0e6-469d-94e9-900e00e05cb6-c000.snappy.parquet\n",
      "-rw-r--r--   8 navaro_p hadoop   22560791 2018-10-09 20:57 /user/navaro_p/nyc-taxi/2010.parquet/part-00190-f2af1e63-c0e6-469d-94e9-900e00e05cb6-c000.snappy.parquet\n",
      "-rw-r--r--   8 navaro_p hadoop   23227586 2018-10-09 20:57 /user/navaro_p/nyc-taxi/2010.parquet/part-00195-f2af1e63-c0e6-469d-94e9-900e00e05cb6-c000.snappy.parquet\n",
      "-rw-r--r--   8 navaro_p hadoop   22688906 2018-10-09 20:57 /user/navaro_p/nyc-taxi/2010.parquet/part-00196-f2af1e63-c0e6-469d-94e9-900e00e05cb6-c000.snappy.parquet\n",
      "-rw-r--r--   8 navaro_p hadoop   23346648 2018-10-09 20:57 /user/navaro_p/nyc-taxi/2010.parquet/part-00197-f2af1e63-c0e6-469d-94e9-900e00e05cb6-c000.snappy.parquet\n",
      "-rw-r--r--   8 navaro_p hadoop   22661552 2018-10-09 20:57 /user/navaro_p/nyc-taxi/2010.parquet/part-00209-f2af1e63-c0e6-469d-94e9-900e00e05cb6-c000.snappy.parquet\n",
      "-rw-r--r--   2 navaro_p hadoop   23039881 2018-10-09 20:57 /user/navaro_p/nyc-taxi/2010.parquet/part-00211-f2af1e63-c0e6-469d-94e9-900e00e05cb6-c000.snappy.parquet\n",
      "-rw-r--r--   8 navaro_p hadoop   23331233 2018-10-09 20:57 /user/navaro_p/nyc-taxi/2010.parquet/part-00216-f2af1e63-c0e6-469d-94e9-900e00e05cb6-c000.snappy.parquet\n",
      "-rw-r--r--   8 navaro_p hadoop   22964840 2018-10-09 20:57 /user/navaro_p/nyc-taxi/2010.parquet/part-00219-f2af1e63-c0e6-469d-94e9-900e00e05cb6-c000.snappy.parquet\n",
      "drwxr-xr-x   - navaro_p hadoop          0 2019-09-14 13:47 /user/navaro_p/nyc-taxi/2011.parquet\n",
      "-rw-r--r--   2 navaro_p hadoop          0 2018-10-09 21:23 /user/navaro_p/nyc-taxi/2011.parquet/_SUCCESS\n",
      "-rw-r--r--   8 navaro_p hadoop   23123041 2018-10-09 21:16 /user/navaro_p/nyc-taxi/2011.parquet/part-00000-929d1f20-d7a0-4f24-a72b-031c1a1e0545-c000.snappy.parquet\n",
      "-rw-r--r--   8 navaro_p hadoop   23185540 2018-10-09 21:17 /user/navaro_p/nyc-taxi/2011.parquet/part-00002-929d1f20-d7a0-4f24-a72b-031c1a1e0545-c000.snappy.parquet\n",
      "-rw-r--r--   8 navaro_p hadoop   23051127 2018-10-09 21:16 /user/navaro_p/nyc-taxi/2011.parquet/part-00004-929d1f20-d7a0-4f24-a72b-031c1a1e0545-c000.snappy.parquet\n",
      "-rw-r--r--   8 navaro_p hadoop   22654807 2018-10-09 21:16 /user/navaro_p/nyc-taxi/2011.parquet/part-00005-929d1f20-d7a0-4f24-a72b-031c1a1e0545-c000.snappy.parquet\n",
      "-rw-r--r--   8 navaro_p hadoop   22938477 2018-10-09 21:16 /user/navaro_p/nyc-taxi/2011.parquet/part-00008-929d1f20-d7a0-4f24-a72b-031c1a1e0545-c000.snappy.parquet\n",
      "-rw-r--r--   2 navaro_p hadoop   22647620 2018-10-09 21:16 /user/navaro_p/nyc-taxi/2011.parquet/part-00009-929d1f20-d7a0-4f24-a72b-031c1a1e0545-c000.snappy.parquet\n",
      "-rw-r--r--   8 navaro_p hadoop   23493976 2018-10-09 21:17 /user/navaro_p/nyc-taxi/2011.parquet/part-00018-929d1f20-d7a0-4f24-a72b-031c1a1e0545-c000.snappy.parquet\n",
      "-rw-r--r--   2 navaro_p hadoop   24228284 2018-10-09 21:17 /user/navaro_p/nyc-taxi/2011.parquet/part-00020-929d1f20-d7a0-4f24-a72b-031c1a1e0545-c000.snappy.parquet\n",
      "-rw-r--r--   8 navaro_p hadoop   23179970 2018-10-09 21:17 /user/navaro_p/nyc-taxi/2011.parquet/part-00022-929d1f20-d7a0-4f24-a72b-031c1a1e0545-c000.snappy.parquet\n",
      "-rw-r--r--   8 navaro_p hadoop   23851213 2018-10-09 21:17 /user/navaro_p/nyc-taxi/2011.parquet/part-00030-929d1f20-d7a0-4f24-a72b-031c1a1e0545-c000.snappy.parquet\n",
      "-rw-r--r--   8 navaro_p hadoop   24018445 2018-10-09 21:17 /user/navaro_p/nyc-taxi/2011.parquet/part-00032-929d1f20-d7a0-4f24-a72b-031c1a1e0545-c000.snappy.parquet\n",
      "-rw-r--r--   8 navaro_p hadoop   23991631 2018-10-09 21:17 /user/navaro_p/nyc-taxi/2011.parquet/part-00033-929d1f20-d7a0-4f24-a72b-031c1a1e0545-c000.snappy.parquet\n",
      "-rw-r--r--   8 navaro_p hadoop   23418928 2018-10-09 21:17 /user/navaro_p/nyc-taxi/2011.parquet/part-00034-929d1f20-d7a0-4f24-a72b-031c1a1e0545-c000.snappy.parquet\n",
      "-rw-r--r--   8 navaro_p hadoop   23476217 2018-10-09 21:17 /user/navaro_p/nyc-taxi/2011.parquet/part-00035-929d1f20-d7a0-4f24-a72b-031c1a1e0545-c000.snappy.parquet\n",
      "-rw-r--r--   8 navaro_p hadoop   23515388 2018-10-09 21:17 /user/navaro_p/nyc-taxi/2011.parquet/part-00039-929d1f20-d7a0-4f24-a72b-031c1a1e0545-c000.snappy.parquet\n",
      "-rw-r--r--   2 navaro_p hadoop   23399307 2018-10-09 21:17 /user/navaro_p/nyc-taxi/2011.parquet/part-00040-929d1f20-d7a0-4f24-a72b-031c1a1e0545-c000.snappy.parquet\n",
      "-rw-r--r--   8 navaro_p hadoop   23102159 2018-10-09 21:17 /user/navaro_p/nyc-taxi/2011.parquet/part-00041-929d1f20-d7a0-4f24-a72b-031c1a1e0545-c000.snappy.parquet\n",
      "-rw-r--r--   2 navaro_p hadoop   23263617 2018-10-09 21:17 /user/navaro_p/nyc-taxi/2011.parquet/part-00043-929d1f20-d7a0-4f24-a72b-031c1a1e0545-c000.snappy.parquet\n",
      "-rw-r--r--   8 navaro_p hadoop   23581782 2018-10-09 21:17 /user/navaro_p/nyc-taxi/2011.parquet/part-00055-929d1f20-d7a0-4f24-a72b-031c1a1e0545-c000.snappy.parquet\n",
      "-rw-r--r--   8 navaro_p hadoop   23310353 2018-10-09 21:17 /user/navaro_p/nyc-taxi/2011.parquet/part-00058-929d1f20-d7a0-4f24-a72b-031c1a1e0545-c000.snappy.parquet\n",
      "-rw-r--r--   2 navaro_p hadoop   23281160 2018-10-09 21:18 /user/navaro_p/nyc-taxi/2011.parquet/part-00061-929d1f20-d7a0-4f24-a72b-031c1a1e0545-c000.snappy.parquet\n",
      "-rw-r--r--   8 navaro_p hadoop   23825999 2018-10-09 21:18 /user/navaro_p/nyc-taxi/2011.parquet/part-00062-929d1f20-d7a0-4f24-a72b-031c1a1e0545-c000.snappy.parquet\n",
      "-rw-r--r--   8 navaro_p hadoop   23843061 2018-10-09 21:18 /user/navaro_p/nyc-taxi/2011.parquet/part-00067-929d1f20-d7a0-4f24-a72b-031c1a1e0545-c000.snappy.parquet\n",
      "-rw-r--r--   2 navaro_p hadoop   23463288 2018-10-09 21:18 /user/navaro_p/nyc-taxi/2011.parquet/part-00070-929d1f20-d7a0-4f24-a72b-031c1a1e0545-c000.snappy.parquet\n",
      "-rw-r--r--   8 navaro_p hadoop   23336609 2018-10-09 21:18 /user/navaro_p/nyc-taxi/2011.parquet/part-00077-929d1f20-d7a0-4f24-a72b-031c1a1e0545-c000.snappy.parquet\n",
      "-rw-r--r--   8 navaro_p hadoop   23886265 2018-10-09 21:18 /user/navaro_p/nyc-taxi/2011.parquet/part-00080-929d1f20-d7a0-4f24-a72b-031c1a1e0545-c000.snappy.parquet\n",
      "-rw-r--r--   8 navaro_p hadoop   23418932 2018-10-09 21:19 /user/navaro_p/nyc-taxi/2011.parquet/part-00083-929d1f20-d7a0-4f24-a72b-031c1a1e0545-c000.snappy.parquet\n",
      "-rw-r--r--   8 navaro_p hadoop   23005246 2018-10-09 21:19 /user/navaro_p/nyc-taxi/2011.parquet/part-00091-929d1f20-d7a0-4f24-a72b-031c1a1e0545-c000.snappy.parquet\n",
      "-rw-r--r--   2 navaro_p hadoop   24275973 2018-10-09 21:18 /user/navaro_p/nyc-taxi/2011.parquet/part-00092-929d1f20-d7a0-4f24-a72b-031c1a1e0545-c000.snappy.parquet\n",
      "-rw-r--r--   8 navaro_p hadoop   23705752 2018-10-09 21:18 /user/navaro_p/nyc-taxi/2011.parquet/part-00093-929d1f20-d7a0-4f24-a72b-031c1a1e0545-c000.snappy.parquet\n",
      "-rw-r--r--   2 navaro_p hadoop   23511497 2018-10-09 21:18 /user/navaro_p/nyc-taxi/2011.parquet/part-00095-929d1f20-d7a0-4f24-a72b-031c1a1e0545-c000.snappy.parquet\n",
      "-rw-r--r--   8 navaro_p hadoop   23321653 2018-10-09 21:19 /user/navaro_p/nyc-taxi/2011.parquet/part-00096-929d1f20-d7a0-4f24-a72b-031c1a1e0545-c000.snappy.parquet\n",
      "-rw-r--r--   8 navaro_p hadoop   23997479 2018-10-09 21:19 /user/navaro_p/nyc-taxi/2011.parquet/part-00098-929d1f20-d7a0-4f24-a72b-031c1a1e0545-c000.snappy.parquet\n",
      "-rw-r--r--   8 navaro_p hadoop   22943117 2018-10-09 21:19 /user/navaro_p/nyc-taxi/2011.parquet/part-00100-929d1f20-d7a0-4f24-a72b-031c1a1e0545-c000.snappy.parquet\n",
      "-rw-r--r--   8 navaro_p hadoop   22758780 2018-10-09 21:19 /user/navaro_p/nyc-taxi/2011.parquet/part-00104-929d1f20-d7a0-4f24-a72b-031c1a1e0545-c000.snappy.parquet\n",
      "-rw-r--r--   8 navaro_p hadoop   23051973 2018-10-09 21:19 /user/navaro_p/nyc-taxi/2011.parquet/part-00107-929d1f20-d7a0-4f24-a72b-031c1a1e0545-c000.snappy.parquet\n",
      "-rw-r--r--   2 navaro_p hadoop   23133748 2018-10-09 21:19 /user/navaro_p/nyc-taxi/2011.parquet/part-00110-929d1f20-d7a0-4f24-a72b-031c1a1e0545-c000.snappy.parquet\n",
      "-rw-r--r--   8 navaro_p hadoop   23236551 2018-10-09 21:19 /user/navaro_p/nyc-taxi/2011.parquet/part-00115-929d1f20-d7a0-4f24-a72b-031c1a1e0545-c000.snappy.parquet\n",
      "-rw-r--r--   8 navaro_p hadoop   23086863 2018-10-09 21:19 /user/navaro_p/nyc-taxi/2011.parquet/part-00116-929d1f20-d7a0-4f24-a72b-031c1a1e0545-c000.snappy.parquet\n",
      "-rw-r--r--   8 navaro_p hadoop   22916891 2018-10-09 21:19 /user/navaro_p/nyc-taxi/2011.parquet/part-00117-929d1f20-d7a0-4f24-a72b-031c1a1e0545-c000.snappy.parquet\n",
      "-rw-r--r--   8 navaro_p hadoop   22789045 2018-10-09 21:19 /user/navaro_p/nyc-taxi/2011.parquet/part-00124-929d1f20-d7a0-4f24-a72b-031c1a1e0545-c000.snappy.parquet\n",
      "-rw-r--r--   8 navaro_p hadoop   22724625 2018-10-09 21:20 /user/navaro_p/nyc-taxi/2011.parquet/part-00126-929d1f20-d7a0-4f24-a72b-031c1a1e0545-c000.snappy.parquet\n",
      "-rw-r--r--   8 navaro_p hadoop   22461695 2018-10-09 21:20 /user/navaro_p/nyc-taxi/2011.parquet/part-00136-929d1f20-d7a0-4f24-a72b-031c1a1e0545-c000.snappy.parquet\n",
      "-rw-r--r--   8 navaro_p hadoop   22038099 2018-10-09 21:20 /user/navaro_p/nyc-taxi/2011.parquet/part-00138-929d1f20-d7a0-4f24-a72b-031c1a1e0545-c000.snappy.parquet\n",
      "-rw-r--r--   8 navaro_p hadoop   24264693 2018-10-09 21:20 /user/navaro_p/nyc-taxi/2011.parquet/part-00143-929d1f20-d7a0-4f24-a72b-031c1a1e0545-c000.snappy.parquet\n",
      "-rw-r--r--   8 navaro_p hadoop   24799959 2018-10-09 21:20 /user/navaro_p/nyc-taxi/2011.parquet/part-00148-929d1f20-d7a0-4f24-a72b-031c1a1e0545-c000.snappy.parquet\n",
      "-rw-r--r--   8 navaro_p hadoop   24184023 2018-10-09 21:20 /user/navaro_p/nyc-taxi/2011.parquet/part-00151-929d1f20-d7a0-4f24-a72b-031c1a1e0545-c000.snappy.parquet\n",
      "-rw-r--r--   8 navaro_p hadoop   23899124 2018-10-09 21:21 /user/navaro_p/nyc-taxi/2011.parquet/part-00156-929d1f20-d7a0-4f24-a72b-031c1a1e0545-c000.snappy.parquet\n",
      "-rw-r--r--   2 navaro_p hadoop   23645499 2018-10-09 21:20 /user/navaro_p/nyc-taxi/2011.parquet/part-00158-929d1f20-d7a0-4f24-a72b-031c1a1e0545-c000.snappy.parquet\n",
      "-rw-r--r--   8 navaro_p hadoop   23138885 2018-10-09 21:20 /user/navaro_p/nyc-taxi/2011.parquet/part-00160-929d1f20-d7a0-4f24-a72b-031c1a1e0545-c000.snappy.parquet\n",
      "-rw-r--r--   8 navaro_p hadoop   23614959 2018-10-09 21:21 /user/navaro_p/nyc-taxi/2011.parquet/part-00164-929d1f20-d7a0-4f24-a72b-031c1a1e0545-c000.snappy.parquet\n",
      "-rw-r--r--   8 navaro_p hadoop   23695417 2018-10-09 21:21 /user/navaro_p/nyc-taxi/2011.parquet/part-00168-929d1f20-d7a0-4f24-a72b-031c1a1e0545-c000.snappy.parquet\n",
      "-rw-r--r--   8 navaro_p hadoop   23576903 2018-10-09 21:21 /user/navaro_p/nyc-taxi/2011.parquet/part-00169-929d1f20-d7a0-4f24-a72b-031c1a1e0545-c000.snappy.parquet\n",
      "-rw-r--r--   2 navaro_p hadoop   22754301 2018-10-09 21:21 /user/navaro_p/nyc-taxi/2011.parquet/part-00170-929d1f20-d7a0-4f24-a72b-031c1a1e0545-c000.snappy.parquet\n",
      "-rw-r--r--   8 navaro_p hadoop   21770711 2018-10-09 21:21 /user/navaro_p/nyc-taxi/2011.parquet/part-00171-929d1f20-d7a0-4f24-a72b-031c1a1e0545-c000.snappy.parquet\n",
      "-rw-r--r--   8 navaro_p hadoop   23513833 2018-10-09 21:21 /user/navaro_p/nyc-taxi/2011.parquet/part-00172-929d1f20-d7a0-4f24-a72b-031c1a1e0545-c000.snappy.parquet\n",
      "-rw-r--r--   8 navaro_p hadoop   22402015 2018-10-09 21:22 /user/navaro_p/nyc-taxi/2011.parquet/part-00175-929d1f20-d7a0-4f24-a72b-031c1a1e0545-c000.snappy.parquet\n",
      "-rw-r--r--   8 navaro_p hadoop   23223855 2018-10-09 21:21 /user/navaro_p/nyc-taxi/2011.parquet/part-00177-929d1f20-d7a0-4f24-a72b-031c1a1e0545-c000.snappy.parquet\n",
      "-rw-r--r--   8 navaro_p hadoop   23357418 2018-10-09 21:21 /user/navaro_p/nyc-taxi/2011.parquet/part-00187-929d1f20-d7a0-4f24-a72b-031c1a1e0545-c000.snappy.parquet\n",
      "-rw-r--r--   8 navaro_p hadoop   23252582 2018-10-09 21:22 /user/navaro_p/nyc-taxi/2011.parquet/part-00188-929d1f20-d7a0-4f24-a72b-031c1a1e0545-c000.snappy.parquet\n",
      "-rw-r--r--   8 navaro_p hadoop   23171767 2018-10-09 21:22 /user/navaro_p/nyc-taxi/2011.parquet/part-00190-929d1f20-d7a0-4f24-a72b-031c1a1e0545-c000.snappy.parquet\n",
      "-rw-r--r--   8 navaro_p hadoop   22907908 2018-10-09 21:21 /user/navaro_p/nyc-taxi/2011.parquet/part-00191-929d1f20-d7a0-4f24-a72b-031c1a1e0545-c000.snappy.parquet\n",
      "-rw-r--r--   8 navaro_p hadoop   22790333 2018-10-09 21:22 /user/navaro_p/nyc-taxi/2011.parquet/part-00193-929d1f20-d7a0-4f24-a72b-031c1a1e0545-c000.snappy.parquet\n",
      "-rw-r--r--   8 navaro_p hadoop   23251817 2018-10-09 21:22 /user/navaro_p/nyc-taxi/2011.parquet/part-00194-929d1f20-d7a0-4f24-a72b-031c1a1e0545-c000.snappy.parquet\n",
      "-rw-r--r--   8 navaro_p hadoop   23162080 2018-10-09 21:22 /user/navaro_p/nyc-taxi/2011.parquet/part-00197-929d1f20-d7a0-4f24-a72b-031c1a1e0545-c000.snappy.parquet\n",
      "-rw-r--r--   2 navaro_p hadoop   23008571 2018-10-09 21:22 /user/navaro_p/nyc-taxi/2011.parquet/part-00199-929d1f20-d7a0-4f24-a72b-031c1a1e0545-c000.snappy.parquet\n",
      "-rw-r--r--   8 navaro_p hadoop   22020064 2018-10-09 21:22 /user/navaro_p/nyc-taxi/2011.parquet/part-00205-929d1f20-d7a0-4f24-a72b-031c1a1e0545-c000.snappy.parquet\n",
      "-rw-r--r--   8 navaro_p hadoop   23145966 2018-10-09 21:22 /user/navaro_p/nyc-taxi/2011.parquet/part-00206-929d1f20-d7a0-4f24-a72b-031c1a1e0545-c000.snappy.parquet\n",
      "-rw-r--r--   2 navaro_p hadoop   23198593 2018-10-09 21:22 /user/navaro_p/nyc-taxi/2011.parquet/part-00207-929d1f20-d7a0-4f24-a72b-031c1a1e0545-c000.snappy.parquet\n",
      "-rw-r--r--   8 navaro_p hadoop   23144661 2018-10-09 21:22 /user/navaro_p/nyc-taxi/2011.parquet/part-00211-929d1f20-d7a0-4f24-a72b-031c1a1e0545-c000.snappy.parquet\n",
      "-rw-r--r--   8 navaro_p hadoop   22534319 2018-10-09 21:23 /user/navaro_p/nyc-taxi/2011.parquet/part-00223-929d1f20-d7a0-4f24-a72b-031c1a1e0545-c000.snappy.parquet\n",
      "-rw-r--r--   8 navaro_p hadoop   23045242 2018-10-09 21:22 /user/navaro_p/nyc-taxi/2011.parquet/part-00225-929d1f20-d7a0-4f24-a72b-031c1a1e0545-c000.snappy.parquet\n",
      "-rw-r--r--   8 navaro_p hadoop   20291441 2018-10-09 21:22 /user/navaro_p/nyc-taxi/2011.parquet/part-00226-929d1f20-d7a0-4f24-a72b-031c1a1e0545-c000.snappy.parquet\n",
      "-rw-r--r--   8 navaro_p hadoop   23152144 2018-10-09 21:23 /user/navaro_p/nyc-taxi/2011.parquet/part-00230-929d1f20-d7a0-4f24-a72b-031c1a1e0545-c000.snappy.parquet\n",
      "-rw-r--r--   2 navaro_p hadoop   19230718 2018-10-09 21:23 /user/navaro_p/nyc-taxi/2011.parquet/part-00238-929d1f20-d7a0-4f24-a72b-031c1a1e0545-c000.snappy.parquet\n",
      "-rw-r--r--   8 navaro_p hadoop   16125859 2018-10-09 21:23 /user/navaro_p/nyc-taxi/2011.parquet/part-00239-929d1f20-d7a0-4f24-a72b-031c1a1e0545-c000.snappy.parquet\n",
      "-rw-r--r--   8 navaro_p hadoop   21030970 2018-10-09 21:23 /user/navaro_p/nyc-taxi/2011.parquet/part-00240-929d1f20-d7a0-4f24-a72b-031c1a1e0545-c000.snappy.parquet\n",
      "drwxr-xr-x   - navaro_p hadoop          0 2019-09-14 13:47 /user/navaro_p/nyc-taxi/2012.parquet\n",
      "-rw-r--r--   2 navaro_p hadoop          0 2018-10-09 21:46 /user/navaro_p/nyc-taxi/2012.parquet/_SUCCESS\n",
      "-rw-r--r--   8 navaro_p hadoop       1839 2018-10-09 21:46 /user/navaro_p/nyc-taxi/2012.parquet/_common_metadata\n",
      "-rw-r--r--   8 navaro_p hadoop   25273469 2018-10-09 21:37 /user/navaro_p/nyc-taxi/2012.parquet/part-00001-0cf3ed3e-8eb8-49ac-b0ea-7d7cb9da2236-c000.snappy.parquet\n",
      "-rw-r--r--   8 navaro_p hadoop   25193479 2018-10-09 21:37 /user/navaro_p/nyc-taxi/2012.parquet/part-00002-0cf3ed3e-8eb8-49ac-b0ea-7d7cb9da2236-c000.snappy.parquet\n",
      "-rw-r--r--   8 navaro_p hadoop   23719314 2018-10-09 21:37 /user/navaro_p/nyc-taxi/2012.parquet/part-00009-0cf3ed3e-8eb8-49ac-b0ea-7d7cb9da2236-c000.snappy.parquet\n",
      "-rw-r--r--   8 navaro_p hadoop   23257694 2018-10-09 21:37 /user/navaro_p/nyc-taxi/2012.parquet/part-00012-0cf3ed3e-8eb8-49ac-b0ea-7d7cb9da2236-c000.snappy.parquet\n",
      "-rw-r--r--   8 navaro_p hadoop   21855236 2018-10-09 21:37 /user/navaro_p/nyc-taxi/2012.parquet/part-00015-0cf3ed3e-8eb8-49ac-b0ea-7d7cb9da2236-c000.snappy.parquet\n",
      "-rw-r--r--   8 navaro_p hadoop   22113120 2018-10-09 21:37 /user/navaro_p/nyc-taxi/2012.parquet/part-00017-0cf3ed3e-8eb8-49ac-b0ea-7d7cb9da2236-c000.snappy.parquet\n",
      "-rw-r--r--   2 navaro_p hadoop   24808507 2018-10-09 21:38 /user/navaro_p/nyc-taxi/2012.parquet/part-00026-0cf3ed3e-8eb8-49ac-b0ea-7d7cb9da2236-c000.snappy.parquet\n",
      "-rw-r--r--   2 navaro_p hadoop   23521046 2018-10-09 21:38 /user/navaro_p/nyc-taxi/2012.parquet/part-00030-0cf3ed3e-8eb8-49ac-b0ea-7d7cb9da2236-c000.snappy.parquet\n",
      "-rw-r--r--   8 navaro_p hadoop   20789983 2018-10-09 21:38 /user/navaro_p/nyc-taxi/2012.parquet/part-00032-0cf3ed3e-8eb8-49ac-b0ea-7d7cb9da2236-c000.snappy.parquet\n",
      "-rw-r--r--   8 navaro_p hadoop   22375613 2018-10-09 21:38 /user/navaro_p/nyc-taxi/2012.parquet/part-00033-0cf3ed3e-8eb8-49ac-b0ea-7d7cb9da2236-c000.snappy.parquet\n",
      "-rw-r--r--   2 navaro_p hadoop   23030012 2018-10-09 21:38 /user/navaro_p/nyc-taxi/2012.parquet/part-00037-0cf3ed3e-8eb8-49ac-b0ea-7d7cb9da2236-c000.snappy.parquet\n",
      "-rw-r--r--   8 navaro_p hadoop   25306504 2018-10-09 21:38 /user/navaro_p/nyc-taxi/2012.parquet/part-00043-0cf3ed3e-8eb8-49ac-b0ea-7d7cb9da2236-c000.snappy.parquet\n",
      "-rw-r--r--   8 navaro_p hadoop   16330173 2018-10-09 21:38 /user/navaro_p/nyc-taxi/2012.parquet/part-00047-0cf3ed3e-8eb8-49ac-b0ea-7d7cb9da2236-c000.snappy.parquet\n",
      "-rw-r--r--   2 navaro_p hadoop   21576863 2018-10-09 21:38 /user/navaro_p/nyc-taxi/2012.parquet/part-00051-0cf3ed3e-8eb8-49ac-b0ea-7d7cb9da2236-c000.snappy.parquet\n",
      "-rw-r--r--   8 navaro_p hadoop   22674348 2018-10-09 21:38 /user/navaro_p/nyc-taxi/2012.parquet/part-00052-0cf3ed3e-8eb8-49ac-b0ea-7d7cb9da2236-c000.snappy.parquet\n",
      "-rw-r--r--   8 navaro_p hadoop   24096234 2018-10-09 21:39 /user/navaro_p/nyc-taxi/2012.parquet/part-00061-0cf3ed3e-8eb8-49ac-b0ea-7d7cb9da2236-c000.snappy.parquet\n",
      "-rw-r--r--   8 navaro_p hadoop   20756364 2018-10-09 21:39 /user/navaro_p/nyc-taxi/2012.parquet/part-00062-0cf3ed3e-8eb8-49ac-b0ea-7d7cb9da2236-c000.snappy.parquet\n",
      "-rw-r--r--   8 navaro_p hadoop   21742252 2018-10-09 21:39 /user/navaro_p/nyc-taxi/2012.parquet/part-00063-0cf3ed3e-8eb8-49ac-b0ea-7d7cb9da2236-c000.snappy.parquet\n",
      "-rw-r--r--   8 navaro_p hadoop   23322765 2018-10-09 21:39 /user/navaro_p/nyc-taxi/2012.parquet/part-00065-0cf3ed3e-8eb8-49ac-b0ea-7d7cb9da2236-c000.snappy.parquet\n",
      "-rw-r--r--   8 navaro_p hadoop   21737857 2018-10-09 21:39 /user/navaro_p/nyc-taxi/2012.parquet/part-00067-0cf3ed3e-8eb8-49ac-b0ea-7d7cb9da2236-c000.snappy.parquet\n",
      "-rw-r--r--   8 navaro_p hadoop   20272599 2018-10-09 21:39 /user/navaro_p/nyc-taxi/2012.parquet/part-00070-0cf3ed3e-8eb8-49ac-b0ea-7d7cb9da2236-c000.snappy.parquet\n",
      "-rw-r--r--   8 navaro_p hadoop   21725067 2018-10-09 21:39 /user/navaro_p/nyc-taxi/2012.parquet/part-00071-0cf3ed3e-8eb8-49ac-b0ea-7d7cb9da2236-c000.snappy.parquet\n",
      "-rw-r--r--   8 navaro_p hadoop   23461546 2018-10-09 21:39 /user/navaro_p/nyc-taxi/2012.parquet/part-00073-0cf3ed3e-8eb8-49ac-b0ea-7d7cb9da2236-c000.snappy.parquet\n",
      "-rw-r--r--   2 navaro_p hadoop   21763258 2018-10-09 21:39 /user/navaro_p/nyc-taxi/2012.parquet/part-00075-0cf3ed3e-8eb8-49ac-b0ea-7d7cb9da2236-c000.snappy.parquet\n",
      "-rw-r--r--   2 navaro_p hadoop   19909979 2018-10-09 21:39 /user/navaro_p/nyc-taxi/2012.parquet/part-00078-0cf3ed3e-8eb8-49ac-b0ea-7d7cb9da2236-c000.snappy.parquet\n",
      "-rw-r--r--   8 navaro_p hadoop   24001891 2018-10-09 21:40 /user/navaro_p/nyc-taxi/2012.parquet/part-00080-0cf3ed3e-8eb8-49ac-b0ea-7d7cb9da2236-c000.snappy.parquet\n",
      "-rw-r--r--   2 navaro_p hadoop   19857632 2018-10-09 21:40 /user/navaro_p/nyc-taxi/2012.parquet/part-00082-0cf3ed3e-8eb8-49ac-b0ea-7d7cb9da2236-c000.snappy.parquet\n",
      "-rw-r--r--   8 navaro_p hadoop   21354419 2018-10-09 21:40 /user/navaro_p/nyc-taxi/2012.parquet/part-00095-0cf3ed3e-8eb8-49ac-b0ea-7d7cb9da2236-c000.snappy.parquet\n",
      "-rw-r--r--   2 navaro_p hadoop   23746663 2018-10-09 21:40 /user/navaro_p/nyc-taxi/2012.parquet/part-00099-0cf3ed3e-8eb8-49ac-b0ea-7d7cb9da2236-c000.snappy.parquet\n",
      "-rw-r--r--   8 navaro_p hadoop   22729992 2018-10-09 21:41 /user/navaro_p/nyc-taxi/2012.parquet/part-00106-0cf3ed3e-8eb8-49ac-b0ea-7d7cb9da2236-c000.snappy.parquet\n",
      "-rw-r--r--   8 navaro_p hadoop   22761404 2018-10-09 21:41 /user/navaro_p/nyc-taxi/2012.parquet/part-00109-0cf3ed3e-8eb8-49ac-b0ea-7d7cb9da2236-c000.snappy.parquet\n",
      "-rw-r--r--   8 navaro_p hadoop   22768549 2018-10-09 21:40 /user/navaro_p/nyc-taxi/2012.parquet/part-00110-0cf3ed3e-8eb8-49ac-b0ea-7d7cb9da2236-c000.snappy.parquet\n",
      "-rw-r--r--   2 navaro_p hadoop   22733725 2018-10-09 21:41 /user/navaro_p/nyc-taxi/2012.parquet/part-00113-0cf3ed3e-8eb8-49ac-b0ea-7d7cb9da2236-c000.snappy.parquet\n",
      "-rw-r--r--   8 navaro_p hadoop   22748621 2018-10-09 21:41 /user/navaro_p/nyc-taxi/2012.parquet/part-00114-0cf3ed3e-8eb8-49ac-b0ea-7d7cb9da2236-c000.snappy.parquet\n",
      "-rw-r--r--   8 navaro_p hadoop   22758541 2018-10-09 21:41 /user/navaro_p/nyc-taxi/2012.parquet/part-00116-0cf3ed3e-8eb8-49ac-b0ea-7d7cb9da2236-c000.snappy.parquet\n",
      "-rw-r--r--   2 navaro_p hadoop   22713185 2018-10-09 21:41 /user/navaro_p/nyc-taxi/2012.parquet/part-00117-0cf3ed3e-8eb8-49ac-b0ea-7d7cb9da2236-c000.snappy.parquet\n",
      "-rw-r--r--   8 navaro_p hadoop   22761806 2018-10-09 21:41 /user/navaro_p/nyc-taxi/2012.parquet/part-00118-0cf3ed3e-8eb8-49ac-b0ea-7d7cb9da2236-c000.snappy.parquet\n",
      "-rw-r--r--   8 navaro_p hadoop   22742449 2018-10-09 21:41 /user/navaro_p/nyc-taxi/2012.parquet/part-00123-0cf3ed3e-8eb8-49ac-b0ea-7d7cb9da2236-c000.snappy.parquet\n",
      "-rw-r--r--   8 navaro_p hadoop   22687252 2018-10-09 21:41 /user/navaro_p/nyc-taxi/2012.parquet/part-00125-0cf3ed3e-8eb8-49ac-b0ea-7d7cb9da2236-c000.snappy.parquet\n",
      "-rw-r--r--   8 navaro_p hadoop   22722218 2018-10-09 21:41 /user/navaro_p/nyc-taxi/2012.parquet/part-00128-0cf3ed3e-8eb8-49ac-b0ea-7d7cb9da2236-c000.snappy.parquet\n",
      "-rw-r--r--   8 navaro_p hadoop   22787208 2018-10-09 21:41 /user/navaro_p/nyc-taxi/2012.parquet/part-00134-0cf3ed3e-8eb8-49ac-b0ea-7d7cb9da2236-c000.snappy.parquet\n",
      "-rw-r--r--   2 navaro_p hadoop   22700683 2018-10-09 21:42 /user/navaro_p/nyc-taxi/2012.parquet/part-00140-0cf3ed3e-8eb8-49ac-b0ea-7d7cb9da2236-c000.snappy.parquet\n",
      "-rw-r--r--   8 navaro_p hadoop   22843205 2018-10-09 21:42 /user/navaro_p/nyc-taxi/2012.parquet/part-00143-0cf3ed3e-8eb8-49ac-b0ea-7d7cb9da2236-c000.snappy.parquet\n",
      "-rw-r--r--   8 navaro_p hadoop   22838801 2018-10-09 21:42 /user/navaro_p/nyc-taxi/2012.parquet/part-00146-0cf3ed3e-8eb8-49ac-b0ea-7d7cb9da2236-c000.snappy.parquet\n",
      "-rw-r--r--   2 navaro_p hadoop   22805723 2018-10-09 21:42 /user/navaro_p/nyc-taxi/2012.parquet/part-00151-0cf3ed3e-8eb8-49ac-b0ea-7d7cb9da2236-c000.snappy.parquet\n",
      "-rw-r--r--   8 navaro_p hadoop   22834240 2018-10-09 21:42 /user/navaro_p/nyc-taxi/2012.parquet/part-00153-0cf3ed3e-8eb8-49ac-b0ea-7d7cb9da2236-c000.snappy.parquet\n",
      "-rw-r--r--   2 navaro_p hadoop   22791228 2018-10-09 21:42 /user/navaro_p/nyc-taxi/2012.parquet/part-00154-0cf3ed3e-8eb8-49ac-b0ea-7d7cb9da2236-c000.snappy.parquet\n",
      "-rw-r--r--   8 navaro_p hadoop   22831915 2018-10-09 21:43 /user/navaro_p/nyc-taxi/2012.parquet/part-00156-0cf3ed3e-8eb8-49ac-b0ea-7d7cb9da2236-c000.snappy.parquet\n",
      "-rw-r--r--   2 navaro_p hadoop   22829255 2018-10-09 21:42 /user/navaro_p/nyc-taxi/2012.parquet/part-00157-0cf3ed3e-8eb8-49ac-b0ea-7d7cb9da2236-c000.snappy.parquet\n",
      "-rw-r--r--   8 navaro_p hadoop   22838558 2018-10-09 21:42 /user/navaro_p/nyc-taxi/2012.parquet/part-00158-0cf3ed3e-8eb8-49ac-b0ea-7d7cb9da2236-c000.snappy.parquet\n",
      "-rw-r--r--   8 navaro_p hadoop   16581946 2018-10-09 21:43 /user/navaro_p/nyc-taxi/2012.parquet/part-00163-0cf3ed3e-8eb8-49ac-b0ea-7d7cb9da2236-c000.snappy.parquet\n",
      "-rw-r--r--   2 navaro_p hadoop   16813028 2018-10-09 21:43 /user/navaro_p/nyc-taxi/2012.parquet/part-00164-0cf3ed3e-8eb8-49ac-b0ea-7d7cb9da2236-c000.snappy.parquet\n",
      "-rw-r--r--   8 navaro_p hadoop   24683936 2018-10-09 21:43 /user/navaro_p/nyc-taxi/2012.parquet/part-00166-0cf3ed3e-8eb8-49ac-b0ea-7d7cb9da2236-c000.snappy.parquet\n",
      "-rw-r--r--   8 navaro_p hadoop   15813581 2018-10-09 21:43 /user/navaro_p/nyc-taxi/2012.parquet/part-00168-0cf3ed3e-8eb8-49ac-b0ea-7d7cb9da2236-c000.snappy.parquet\n",
      "-rw-r--r--   2 navaro_p hadoop   16774487 2018-10-09 21:43 /user/navaro_p/nyc-taxi/2012.parquet/part-00171-0cf3ed3e-8eb8-49ac-b0ea-7d7cb9da2236-c000.snappy.parquet\n",
      "-rw-r--r--   8 navaro_p hadoop   24775694 2018-10-09 21:43 /user/navaro_p/nyc-taxi/2012.parquet/part-00174-0cf3ed3e-8eb8-49ac-b0ea-7d7cb9da2236-c000.snappy.parquet\n",
      "-rw-r--r--   2 navaro_p hadoop   21927778 2018-10-09 21:43 /user/navaro_p/nyc-taxi/2012.parquet/part-00180-0cf3ed3e-8eb8-49ac-b0ea-7d7cb9da2236-c000.snappy.parquet\n",
      "-rw-r--r--   8 navaro_p hadoop   21305312 2018-10-09 21:43 /user/navaro_p/nyc-taxi/2012.parquet/part-00185-0cf3ed3e-8eb8-49ac-b0ea-7d7cb9da2236-c000.snappy.parquet\n",
      "-rw-r--r--   8 navaro_p hadoop   21151592 2018-10-09 21:44 /user/navaro_p/nyc-taxi/2012.parquet/part-00189-0cf3ed3e-8eb8-49ac-b0ea-7d7cb9da2236-c000.snappy.parquet\n",
      "-rw-r--r--   8 navaro_p hadoop   21314875 2018-10-09 21:44 /user/navaro_p/nyc-taxi/2012.parquet/part-00195-0cf3ed3e-8eb8-49ac-b0ea-7d7cb9da2236-c000.snappy.parquet\n",
      "-rw-r--r--   8 navaro_p hadoop   22465879 2018-10-09 21:44 /user/navaro_p/nyc-taxi/2012.parquet/part-00198-0cf3ed3e-8eb8-49ac-b0ea-7d7cb9da2236-c000.snappy.parquet\n",
      "-rw-r--r--   8 navaro_p hadoop   20336112 2018-10-09 21:44 /user/navaro_p/nyc-taxi/2012.parquet/part-00202-0cf3ed3e-8eb8-49ac-b0ea-7d7cb9da2236-c000.snappy.parquet\n",
      "-rw-r--r--   8 navaro_p hadoop   21007139 2018-10-09 21:44 /user/navaro_p/nyc-taxi/2012.parquet/part-00203-0cf3ed3e-8eb8-49ac-b0ea-7d7cb9da2236-c000.snappy.parquet\n",
      "-rw-r--r--   8 navaro_p hadoop   20611567 2018-10-09 21:45 /user/navaro_p/nyc-taxi/2012.parquet/part-00214-0cf3ed3e-8eb8-49ac-b0ea-7d7cb9da2236-c000.snappy.parquet\n",
      "-rw-r--r--   2 navaro_p hadoop   26650283 2018-10-09 21:45 /user/navaro_p/nyc-taxi/2012.parquet/part-00219-0cf3ed3e-8eb8-49ac-b0ea-7d7cb9da2236-c000.snappy.parquet\n",
      "-rw-r--r--   8 navaro_p hadoop   26293307 2018-10-09 21:45 /user/navaro_p/nyc-taxi/2012.parquet/part-00220-0cf3ed3e-8eb8-49ac-b0ea-7d7cb9da2236-c000.snappy.parquet\n",
      "-rw-r--r--   8 navaro_p hadoop   27259163 2018-10-09 21:45 /user/navaro_p/nyc-taxi/2012.parquet/part-00222-0cf3ed3e-8eb8-49ac-b0ea-7d7cb9da2236-c000.snappy.parquet\n",
      "-rw-r--r--   8 navaro_p hadoop   16718845 2018-10-09 21:45 /user/navaro_p/nyc-taxi/2012.parquet/part-00223-0cf3ed3e-8eb8-49ac-b0ea-7d7cb9da2236-c000.snappy.parquet\n",
      "-rw-r--r--   8 navaro_p hadoop   17283305 2018-10-09 21:45 /user/navaro_p/nyc-taxi/2012.parquet/part-00224-0cf3ed3e-8eb8-49ac-b0ea-7d7cb9da2236-c000.snappy.parquet\n",
      "-rw-r--r--   2 navaro_p hadoop   27511812 2018-10-09 21:45 /user/navaro_p/nyc-taxi/2012.parquet/part-00226-0cf3ed3e-8eb8-49ac-b0ea-7d7cb9da2236-c000.snappy.parquet\n",
      "-rw-r--r--   8 navaro_p hadoop   16836221 2018-10-09 21:45 /user/navaro_p/nyc-taxi/2012.parquet/part-00227-0cf3ed3e-8eb8-49ac-b0ea-7d7cb9da2236-c000.snappy.parquet\n",
      "-rw-r--r--   8 navaro_p hadoop   18814758 2018-10-09 21:45 /user/navaro_p/nyc-taxi/2012.parquet/part-00230-0cf3ed3e-8eb8-49ac-b0ea-7d7cb9da2236-c000.snappy.parquet\n",
      "-rw-r--r--   8 navaro_p hadoop   19483073 2018-10-09 21:45 /user/navaro_p/nyc-taxi/2012.parquet/part-00238-0cf3ed3e-8eb8-49ac-b0ea-7d7cb9da2236-c000.snappy.parquet\n",
      "-rw-r--r--   8 navaro_p hadoop   21265712 2018-10-09 21:46 /user/navaro_p/nyc-taxi/2012.parquet/part-00239-0cf3ed3e-8eb8-49ac-b0ea-7d7cb9da2236-c000.snappy.parquet\n",
      "-rw-r--r--   8 navaro_p hadoop    5777440 2018-10-09 21:45 /user/navaro_p/nyc-taxi/2012.parquet/part-00240-0cf3ed3e-8eb8-49ac-b0ea-7d7cb9da2236-c000.snappy.parquet\n",
      "drwxr-xr-x   - navaro_p hadoop          0 2019-11-05 12:30 /user/navaro_p/output-hdfs\n",
      "-rw-r--r--   4 navaro_p hadoop         48 2019-11-12 14:03 /user/navaro_p/user.txt\n"
     ]
    }
   ],
   "source": [
    "%%bash\n",
    "hdfs dfs -put user.txt\n",
    "hdfs dfs -ls -R /user/navaro_p/"
   ]
  },
  {
   "cell_type": "code",
   "execution_count": 6,
   "metadata": {},
   "outputs": [
    {
     "name": "stdout",
     "output_type": "stream",
     "text": [
      "FirstName LastName\n",
      "Tue Nov 12 14:02:32 CET 2019\n"
     ]
    }
   ],
   "source": [
    "%%bash\n",
    "hdfs dfs -cat user.txt"
   ]
  },
  {
   "cell_type": "markdown",
   "metadata": {
    "slideshow": {
     "slide_type": "slide"
    }
   },
   "source": [
    "Remove the file:\n",
    "```bash\n",
    "hdfs dfs -rm user.txt\n",
    "```\n",
    "\n",
    "Put it again on HDFS and move to books directory:\n",
    "```bash\n",
    "hdfs dfs -copyFromLocal user.txt\n",
    "hdfs dfs -mv user.txt books/user.txt\n",
    "hdfs dfs -ls -R -h\n",
    "```\n",
    "\n",
    "Copy user.txt to hello.txt and remove it.\n",
    "```bash\n",
    "hdfs dfs -cp books/user.txt books/hello.txt\n",
    "hdfs dfs -count -h /user/$USER\n",
    "hdfs dfs -rm books/user.txt\n",
    "```"
   ]
  },
  {
   "cell_type": "markdown",
   "metadata": {},
   "source": [
    "# Hands-on practice:\n",
    "\n",
    "1. Create a directory `files` in HDFS.\n",
    "2. List the contents of a directory /.\n",
    "3. Upload the file today.txt in HDFS.\n",
    "```bash\n",
    "date > today.txt\n",
    "whoami >> today.txt\n",
    "```\n",
    "4. Display contents of file `today.txt`\n",
    "5. Copy `today.txt` file from source to `files` directory.\n",
    "6. Copy file `jps.txt` from/To Local file system to HDFS\n",
    "```bash\n",
    "jps > jps.txt\n",
    "```\n",
    "7. Move file `jps.txt` from source to `files`.\n",
    "8. Remove file `today.txt` from home directory in HDFS.\n",
    "9. Display last few lines of `jps.txt`.\n",
    "10. Display the help of `du` command and show the total amount of space in a human-readable fashion used by your home hdfs directory.\n",
    "12. Display the help of `df` command and show the total amount of space available in the filesystem in a human-readable fashion.\n",
    "13. With `chmod` change the rights of `today.txt` file. I has to be readable and writeable only by you."
   ]
  },
  {
   "cell_type": "markdown",
   "metadata": {
    "slideshow": {
     "slide_type": "slide"
    }
   },
   "source": [
    "# YARN\n",
    "\n",
    "*YARN takes care of resource management and job scheduling/monitoring.*\n",
    "\n",
    "- The **ResourceManager** is the ultimate authority that arbitrates resources among all the applications in the system. It has two components: **Scheduler** and **ApplicationsManager**.\n",
    "- The **NodeManager** is the per-machine framework agent who is responsible for **Containers**, monitoring their resource usage (cpu, memory, disk, network) and reporting the same to the **ResourceManager/Scheduler**.\n",
    "\n",
    "The per-application **ApplicationMaster** negotiates resources from the ResourceManager and working with the NodeManager(s) to execute and monitor the tasks.\n",
    "\n",
    "- The **Scheduler** is responsible for allocating resources to the applications.\n",
    "\n",
    "- The **ApplicationsManager** is responsible for accepting job-submissions, tracking their status and monitoring for progress.\n",
    "\n"
   ]
  },
  {
   "cell_type": "markdown",
   "metadata": {
    "slideshow": {
     "slide_type": "slide"
    }
   },
   "source": [
    "![Yarn in Hadoop documentation](http://hadoop.apache.org/docs/stable/hadoop-yarn/hadoop-yarn-site/yarn_architecture.gif)"
   ]
  },
  {
   "cell_type": "markdown",
   "metadata": {
    "slideshow": {
     "slide_type": "slide"
    }
   },
   "source": [
    "## Yarn Web Interface\n",
    "\n",
    "The JobTracker web UI provides information about general job statistics of the Hadoop cluster, running/completed/failed jobs and a job history log file. It also gives access to the ‘‘local machine’s’’ Hadoop log files (the machine on which the web UI is running on).\n",
    "\n",
    " - All Applications http://svmass2.mass.uhb.fr:8088\n",
    " "
   ]
  },
  {
   "cell_type": "markdown",
   "metadata": {
    "slideshow": {
     "slide_type": "slide"
    }
   },
   "source": [
    "## WordCount Example \n",
    "\n",
    "The [Worcount example](https://wiki.apache.org/hadoop/WordCount) is implemented in Java and it is the example of [Hadoop MapReduce Tutorial](https://hadoop.apache.org/docs/current/hadoop-mapreduce-client/hadoop-mapreduce-client-core/MapReduceTutorial.html)\n",
    "\n",
    "Let's create some files with lorem python package"
   ]
  },
  {
   "cell_type": "code",
   "execution_count": 9,
   "metadata": {
    "slideshow": {
     "slide_type": "slide"
    }
   },
   "outputs": [],
   "source": [
    "from lorem import text\n",
    "\n",
    "for i in range(1,10):\n",
    "    with open('sample{0:02d}.txt'.format(i), 'w') as f:\n",
    "        f.write(text())"
   ]
  },
  {
   "cell_type": "markdown",
   "metadata": {
    "slideshow": {
     "slide_type": "slide"
    }
   },
   "source": [
    "- Make input directory in your HDFS home directory required to execute MapReduce jobs:\n",
    "```bash\n",
    "hdfs dfs -mkdir -p /user/${USER}/input\n",
    "```\n",
    "\n",
    "`-p` flag force the directory creation even if it already exists."
   ]
  },
  {
   "cell_type": "markdown",
   "metadata": {
    "slideshow": {
     "slide_type": "slide"
    }
   },
   "source": [
    "### Exercise\n",
    "\n",
    "- Copy all necessary files in HDFS system.\n",
    "- Run the Java example using the command\n",
    "\n",
    "```bash\n",
    "hadoop jar /export/hadoop-2.7.6/share/hadoop/mapreduce/hadoop-mapreduce-examples-2.7.6.jar wordcount /user/you/input /user/you/output\n",
    "```\n",
    "\n",
    "- Remove the output directory and try to use yarn\n",
    "\n",
    "```bash\n",
    "yarn jar /export/hadoop-2.7.6/share/hadoop/mapreduce/hadoop-mapreduce-examples-2.7.6.jar wordcount /user/you/input /user/you/output\n",
    "```\n",
    "\n",
    "- Connect to the [Yarn web user interface](http://svmass2.mass.uhb.fr:8088/cluster) and read the logs carefully."
   ]
  },
  {
   "cell_type": "markdown",
   "metadata": {
    "collapsed": true,
    "slideshow": {
     "slide_type": "slide"
    }
   },
   "source": [
    "\n",
    "## Deploying the MapReduce Python code on Hadoop\n",
    "\n",
    "This Python must use the [Hadoop Streaming API](http://hadoop.apache.org/docs/stable/hadoop-streaming/HadoopStreaming.html) to pass data between our Map and Reduce code via Python’s sys.stdin (standard input) and sys.stdout (standard output). \n",
    "\n"
   ]
  },
  {
   "cell_type": "markdown",
   "metadata": {
    "slideshow": {
     "slide_type": "slide"
    }
   },
   "source": [
    "## Map \n",
    "\n",
    "The following Python code read data from sys.stdin, split it into words and output a list of lines mapping words to their (intermediate) counts to sys.stdout. For every word it outputs <word> 1 tuples immediately. \n",
    "\n"
   ]
  },
  {
   "cell_type": "code",
   "execution_count": 10,
   "metadata": {
    "slideshow": {
     "slide_type": "slide"
    }
   },
   "outputs": [
    {
     "name": "stdout",
     "output_type": "stream",
     "text": [
      "Writing mapper.py\n"
     ]
    }
   ],
   "source": [
    "%%file mapper.py\n",
    "#!/usr/local/anaconda/envs/big-data/bin/python\n",
    "from __future__ import print_function # for python2 compatibility\n",
    "import sys, string\n",
    "translator = str.maketrans('', '', string.punctuation)\n",
    "# input comes from standard input\n",
    "for line in sys.stdin:\n",
    "    line = line.strip().lower() # remove leading and trailing whitespace\n",
    "    line = line.translate(translator)   # strip punctuation \n",
    "    for word in line.split(): # split the line into words\n",
    "        # write the results to standard output;\n",
    "        # what we output here will be the input for the\n",
    "        # Reduce step, i.e. the input for reducer.py\n",
    "        # tab-delimited; the trivial word count is 1\n",
    "        print (f'{word}\\t 1')"
   ]
  },
  {
   "cell_type": "markdown",
   "metadata": {
    "collapsed": true,
    "slideshow": {
     "slide_type": "slide"
    }
   },
   "source": [
    "The python script must be executable:\n",
    "    \n",
    "```bash\n",
    "chmod +x mapper.py \n",
    "```\n",
    "\n",
    "Try to run in a terminal with:\n",
    "```bash\n",
    "cat sample01.txt | ./mapper.py | sort\n",
    "```\n",
    "or\n",
    "```bash\n",
    "./mapper.py < sample01.txt | sort\n",
    "```"
   ]
  },
  {
   "cell_type": "code",
   "execution_count": 11,
   "metadata": {},
   "outputs": [
    {
     "name": "stdout",
     "output_type": "stream",
     "text": [
      "adipisci\t 1\n",
      "adipisci\t 1\n",
      "adipisci\t 1\n",
      "adipisci\t 1\n",
      "adipisci\t 1\n",
      "adipisci\t 1\n",
      "adipisci\t 1\n",
      "adipisci\t 1\n",
      "adipisci\t 1\n",
      "adipisci\t 1\n",
      "adipisci\t 1\n",
      "adipisci\t 1\n",
      "adipisci\t 1\n",
      "adipisci\t 1\n",
      "adipisci\t 1\n",
      "aliquam\t 1\n",
      "aliquam\t 1\n",
      "aliquam\t 1\n",
      "aliquam\t 1\n",
      "aliquam\t 1\n",
      "aliquam\t 1\n",
      "aliquam\t 1\n",
      "aliquam\t 1\n",
      "aliquam\t 1\n",
      "aliquam\t 1\n",
      "amet\t 1\n",
      "amet\t 1\n",
      "amet\t 1\n",
      "amet\t 1\n",
      "amet\t 1\n",
      "amet\t 1\n",
      "amet\t 1\n",
      "consectetur\t 1\n",
      "consectetur\t 1\n",
      "consectetur\t 1\n",
      "consectetur\t 1\n",
      "consectetur\t 1\n",
      "consectetur\t 1\n",
      "consectetur\t 1\n",
      "consectetur\t 1\n",
      "dolor\t 1\n",
      "dolor\t 1\n",
      "dolor\t 1\n",
      "dolor\t 1\n",
      "dolor\t 1\n",
      "dolor\t 1\n",
      "dolor\t 1\n",
      "dolor\t 1\n",
      "dolor\t 1\n",
      "dolor\t 1\n",
      "dolor\t 1\n",
      "dolor\t 1\n",
      "dolore\t 1\n",
      "dolore\t 1\n",
      "dolore\t 1\n",
      "dolore\t 1\n",
      "dolore\t 1\n",
      "dolore\t 1\n",
      "dolore\t 1\n",
      "dolore\t 1\n",
      "dolore\t 1\n",
      "dolorem\t 1\n",
      "dolorem\t 1\n",
      "dolorem\t 1\n",
      "dolorem\t 1\n",
      "dolorem\t 1\n",
      "dolorem\t 1\n",
      "dolorem\t 1\n",
      "dolorem\t 1\n",
      "dolorem\t 1\n",
      "dolorem\t 1\n",
      "dolorem\t 1\n",
      "dolorem\t 1\n",
      "eius\t 1\n",
      "eius\t 1\n",
      "eius\t 1\n",
      "eius\t 1\n",
      "eius\t 1\n",
      "eius\t 1\n",
      "eius\t 1\n",
      "eius\t 1\n",
      "eius\t 1\n",
      "eius\t 1\n",
      "est\t 1\n",
      "est\t 1\n",
      "est\t 1\n",
      "est\t 1\n",
      "est\t 1\n",
      "est\t 1\n",
      "est\t 1\n",
      "est\t 1\n",
      "etincidunt\t 1\n",
      "etincidunt\t 1\n",
      "etincidunt\t 1\n",
      "etincidunt\t 1\n",
      "etincidunt\t 1\n",
      "etincidunt\t 1\n",
      "etincidunt\t 1\n",
      "etincidunt\t 1\n",
      "etincidunt\t 1\n",
      "etincidunt\t 1\n",
      "ipsum\t 1\n",
      "ipsum\t 1\n",
      "ipsum\t 1\n",
      "ipsum\t 1\n",
      "ipsum\t 1\n",
      "ipsum\t 1\n",
      "ipsum\t 1\n",
      "ipsum\t 1\n",
      "ipsum\t 1\n",
      "ipsum\t 1\n",
      "ipsum\t 1\n",
      "ipsum\t 1\n",
      "labore\t 1\n",
      "labore\t 1\n",
      "labore\t 1\n",
      "labore\t 1\n",
      "labore\t 1\n",
      "magnam\t 1\n",
      "magnam\t 1\n",
      "magnam\t 1\n",
      "magnam\t 1\n",
      "magnam\t 1\n",
      "magnam\t 1\n",
      "magnam\t 1\n",
      "magnam\t 1\n",
      "modi\t 1\n",
      "modi\t 1\n",
      "modi\t 1\n",
      "modi\t 1\n",
      "modi\t 1\n",
      "modi\t 1\n",
      "modi\t 1\n",
      "modi\t 1\n",
      "modi\t 1\n",
      "modi\t 1\n",
      "neque\t 1\n",
      "neque\t 1\n",
      "neque\t 1\n",
      "neque\t 1\n",
      "neque\t 1\n",
      "neque\t 1\n",
      "neque\t 1\n",
      "neque\t 1\n",
      "neque\t 1\n",
      "neque\t 1\n",
      "non\t 1\n",
      "non\t 1\n",
      "non\t 1\n",
      "non\t 1\n",
      "non\t 1\n",
      "non\t 1\n",
      "non\t 1\n",
      "non\t 1\n",
      "numquam\t 1\n",
      "numquam\t 1\n",
      "numquam\t 1\n",
      "numquam\t 1\n",
      "numquam\t 1\n",
      "numquam\t 1\n",
      "numquam\t 1\n",
      "numquam\t 1\n",
      "numquam\t 1\n",
      "numquam\t 1\n",
      "numquam\t 1\n",
      "porro\t 1\n",
      "porro\t 1\n",
      "porro\t 1\n",
      "porro\t 1\n",
      "porro\t 1\n",
      "porro\t 1\n",
      "porro\t 1\n",
      "porro\t 1\n",
      "porro\t 1\n",
      "porro\t 1\n",
      "porro\t 1\n",
      "porro\t 1\n",
      "quaerat\t 1\n",
      "quaerat\t 1\n",
      "quaerat\t 1\n",
      "quaerat\t 1\n",
      "quaerat\t 1\n",
      "quaerat\t 1\n",
      "quaerat\t 1\n",
      "quaerat\t 1\n",
      "quaerat\t 1\n",
      "quaerat\t 1\n",
      "quiquia\t 1\n",
      "quiquia\t 1\n",
      "quiquia\t 1\n",
      "quiquia\t 1\n",
      "quiquia\t 1\n",
      "quiquia\t 1\n",
      "quiquia\t 1\n",
      "quisquam\t 1\n",
      "quisquam\t 1\n",
      "quisquam\t 1\n",
      "quisquam\t 1\n",
      "sed\t 1\n",
      "sed\t 1\n",
      "sed\t 1\n",
      "sed\t 1\n",
      "sed\t 1\n",
      "sed\t 1\n",
      "sed\t 1\n",
      "sed\t 1\n",
      "sit\t 1\n",
      "sit\t 1\n",
      "sit\t 1\n",
      "sit\t 1\n",
      "sit\t 1\n",
      "sit\t 1\n",
      "sit\t 1\n",
      "sit\t 1\n",
      "sit\t 1\n",
      "sit\t 1\n",
      "tempora\t 1\n",
      "tempora\t 1\n",
      "tempora\t 1\n",
      "tempora\t 1\n",
      "ut\t 1\n",
      "ut\t 1\n",
      "ut\t 1\n",
      "ut\t 1\n",
      "ut\t 1\n",
      "ut\t 1\n",
      "ut\t 1\n",
      "ut\t 1\n",
      "ut\t 1\n",
      "velit\t 1\n",
      "velit\t 1\n",
      "velit\t 1\n",
      "velit\t 1\n",
      "velit\t 1\n",
      "voluptatem\t 1\n",
      "voluptatem\t 1\n",
      "voluptatem\t 1\n",
      "voluptatem\t 1\n",
      "voluptatem\t 1\n",
      "voluptatem\t 1\n"
     ]
    }
   ],
   "source": [
    "%%bash\n",
    "chmod +x mapper.py\n",
    "cat sample01.txt | ./mapper.py | sort"
   ]
  },
  {
   "cell_type": "markdown",
   "metadata": {
    "slideshow": {
     "slide_type": "slide"
    }
   },
   "source": [
    "# Reduce \n",
    "\n",
    "The following code reads the results of mapper.py and sum the occurrences of each word to a final count, and then output its results to sys.stdout.\n",
    "Remember that Hadoop sorts map output so it is easier to count words.\n",
    "\n"
   ]
  },
  {
   "cell_type": "code",
   "execution_count": 12,
   "metadata": {
    "slideshow": {
     "slide_type": "slide"
    }
   },
   "outputs": [
    {
     "name": "stdout",
     "output_type": "stream",
     "text": [
      "Writing reducer.py\n"
     ]
    }
   ],
   "source": [
    "%%file reducer.py\n",
    "#!/usr/local/anaconda/envs/big-data/bin/python\n",
    "from __future__ import print_function\n",
    "from operator import itemgetter\n",
    "import sys\n",
    "\n",
    "current_word = None\n",
    "current_count = 0\n",
    "word = None\n",
    "\n",
    "for line in sys.stdin:\n",
    "    \n",
    "    # parse the input we got from mapper.py\n",
    "    word, count = line.split('\\t', 1)\n",
    "\n",
    "    # convert count (currently a string) to int\n",
    "    try:\n",
    "        count = int(count)\n",
    "    except ValueError:\n",
    "        # count was not a number, so silently\n",
    "        # ignore/discard this line\n",
    "        continue\n",
    "\n",
    "    # this IF-switch only works because Hadoop sorts map output\n",
    "    # by key (here: word) before it is passed to the reducer\n",
    "    if current_word == word:\n",
    "        current_count += count\n",
    "    else:\n",
    "        if current_word:\n",
    "            # write result to sys.stdout\n",
    "            print (f'{current_count}\\t{current_word}')\n",
    "        current_count = count\n",
    "        current_word = word\n",
    "\n",
    "# do not forget to output the last word if needed!\n",
    "if current_word == word:\n",
    "    print (f'{current_count}\\t{current_word}')"
   ]
  },
  {
   "cell_type": "markdown",
   "metadata": {
    "collapsed": true,
    "slideshow": {
     "slide_type": "slide"
    }
   },
   "source": [
    "As mapper the python script must be executable:\n",
    "    \n",
    "```bash\n",
    "chmod +x reducer.py \n",
    "```\n",
    "\n",
    "Try to run in a terminal with:\n",
    "```bash\n",
    "cat sample.txt | ./mapper.py | sort | ./reducer.py | sort\n",
    "```\n",
    "or\n",
    "```bash\n",
    "./mapper.py < sample01.txt | sort | ./reducer.py | sort\n",
    "```\n"
   ]
  },
  {
   "cell_type": "code",
   "execution_count": 13,
   "metadata": {},
   "outputs": [
    {
     "name": "stdout",
     "output_type": "stream",
     "text": [
      "10\taliquam\n",
      "10\teius\n",
      "10\tetincidunt\n",
      "10\tmodi\n",
      "10\tneque\n",
      "10\tquaerat\n",
      "10\tsit\n",
      "11\tnumquam\n",
      "12\tdolor\n",
      "12\tdolorem\n",
      "12\tipsum\n",
      "12\tporro\n",
      "15\tadipisci\n",
      "4\tquisquam\n",
      "4\ttempora\n",
      "5\tlabore\n",
      "5\tvelit\n",
      "6\tvoluptatem\n",
      "7\tamet\n",
      "7\tquiquia\n",
      "8\tconsectetur\n",
      "8\test\n",
      "8\tmagnam\n",
      "8\tnon\n",
      "8\tsed\n",
      "9\tdolore\n",
      "9\tut\n"
     ]
    }
   ],
   "source": [
    "%%bash\n",
    "chmod +x reducer.py \n",
    "./mapper.py < sample01.txt | sort | ./reducer.py | sort"
   ]
  },
  {
   "cell_type": "markdown",
   "metadata": {
    "slideshow": {
     "slide_type": "slide"
    }
   },
   "source": [
    "## Execution on Hadoop cluster\n",
    "\n",
    "* Copy all files to HDFS cluster\n",
    "* Run the WordCount MapReduce"
   ]
  },
  {
   "cell_type": "code",
   "execution_count": 22,
   "metadata": {
    "slideshow": {
     "slide_type": "slide"
    }
   },
   "outputs": [
    {
     "name": "stdout",
     "output_type": "stream",
     "text": [
      "Overwriting Makefile\n"
     ]
    }
   ],
   "source": [
    "%%file Makefile\n",
    "\n",
    "HADOOP_VERSION=2.7.6\n",
    "HADOOP_HOME=/export/hadoop-${HADOOP_VERSION}\n",
    "HADOOP_TOOLS=${HADOOP_HOME}/share/hadoop/tools/lib\n",
    "HDFS_DIR=/user/${USER}\n",
    " \n",
    "SAMPLES = sample01.txt sample02.txt sample03.txt sample04.txt\n",
    "\n",
    "copy_to_hdfs: ${SAMPLES}\n",
    "\thdfs dfs -mkdir -p ${HDFS_DIR}/input\n",
    "\thdfs dfs -put $^ ${HDFS_DIR}/input\n",
    "\n",
    "run_with_hadoop: \n",
    "\thadoop jar ${HADOOP_TOOLS}/hadoop-streaming-${HADOOP_VERSION}.jar \\\n",
    "    -file  ${PWD}/mapper.py  -mapper  ${PWD}/mapper.py \\\n",
    "    -file  ${PWD}/reducer.py -reducer ${PWD}/reducer.py \\\n",
    "    -input ${HDFS_DIR}/input/*.txt -output ${HDFS_DIR}/output-hadoop\n",
    "\n",
    "run_with_yarn: \n",
    "\tyarn jar ${HADOOP_TOOLS}/hadoop-streaming-${HADOOP_VERSION}.jar \\\n",
    "\t-file  ${PWD}/mapper.py  -mapper  ${PWD}/mapper.py \\\n",
    "\t-file  ${PWD}/reducer.py -reducer ${PWD}/reducer.py \\\n",
    "\t-input ${HDFS_DIR}/input/*.txt -output ${HDFS_DIR}/output-yarn\n"
   ]
  },
  {
   "cell_type": "code",
   "execution_count": 23,
   "metadata": {},
   "outputs": [
    {
     "name": "stdout",
     "output_type": "stream",
     "text": [
      "Deleted input\n",
      "hdfs dfs -mkdir -p /user/navaro_p/input\n",
      "hdfs dfs -put sample01.txt sample02.txt sample03.txt sample04.txt /user/navaro_p/input\n",
      "Found 4 items\n",
      "-rw-r--r--   4 navaro_p hadoop       1679 2019-11-12 14:15 input/sample01.txt\n",
      "-rw-r--r--   4 navaro_p hadoop       1399 2019-11-12 14:15 input/sample02.txt\n",
      "-rw-r--r--   4 navaro_p hadoop       1405 2019-11-12 14:15 input/sample03.txt\n",
      "-rw-r--r--   4 navaro_p hadoop       1517 2019-11-12 14:15 input/sample04.txt\n"
     ]
    }
   ],
   "source": [
    "%%bash\n",
    "hdfs dfs -rm -r input\n",
    "make copy_to_hdfs\n",
    "hdfs dfs -ls input"
   ]
  },
  {
   "cell_type": "code",
   "execution_count": 24,
   "metadata": {},
   "outputs": [
    {
     "name": "stdout",
     "output_type": "stream",
     "text": [
      "Process is interrupted.\n"
     ]
    }
   ],
   "source": [
    "%%bash\n",
    "hdfs dfs -rm -r -f output-hadoop\n",
    "make run_with_hadoop\n",
    "hdfs dfs -cat output-hadoop/*"
   ]
  },
  {
   "cell_type": "code",
   "execution_count": null,
   "metadata": {},
   "outputs": [],
   "source": []
  }
 ],
 "metadata": {
  "kernelspec": {
   "display_name": "Python 3",
   "language": "python",
   "name": "python3"
  },
  "language_info": {
   "codemirror_mode": {
    "name": "ipython",
    "version": 3
   },
   "file_extension": ".py",
   "mimetype": "text/x-python",
   "name": "python",
   "nbconvert_exporter": "python",
   "pygments_lexer": "ipython3",
   "version": "3.7.3"
  }
 },
 "nbformat": 4,
 "nbformat_minor": 2
}
