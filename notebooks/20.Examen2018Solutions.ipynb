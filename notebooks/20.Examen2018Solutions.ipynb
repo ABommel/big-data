{
 "cells": [
  {
   "cell_type": "markdown",
   "metadata": {},
   "source": [
    "# Outils informatiques pour le Big Data\n",
    "\n",
    "## Examen du 05 décembre 2018\n",
    "\n",
    "**Prénom:**\n",
    "\n",
    "**Nom:**\n",
    "\n",
    "*Attention vous devez déposer ce fichier sur [cursus](https://cursus.univ-rennes2.fr/course/view.php?id=11467) avant 12h45*\n",
    "\n",
    "Les données fournies pour cette examen sont les crimes reportés dans une grande ville américaine durant une année."
   ]
  },
  {
   "cell_type": "markdown",
   "metadata": {},
   "source": [
    "Only for my mac \n",
    "```py\n",
    "import os\n",
    "import findspark\n",
    "\n",
    "os.environ[\"JAVA_HOME\"]=\"/Library/Java/JavaVirtualMachines/jdk1.8.0_162.jdk/Contents/Home\"\n",
    "os.environ[\"SPARK_HOME\"]=\"/usr/local/opt/apache-spark/libexec\"\n",
    "os.environ[\"PYSPARK_PYTHON\"]=\"/usr/local/bin/python3\"\n",
    "\n",
    "findspark.init()\n",
    "```"
   ]
  },
  {
   "cell_type": "markdown",
   "metadata": {},
   "source": [
    "## Exercice 1\n",
    "\n",
    "Créez une session de type `SparkContext` nommée `sc` avec deux processeurs "
   ]
  },
  {
   "cell_type": "code",
   "execution_count": 3,
   "metadata": {},
   "outputs": [],
   "source": [
    "# Create a local spark cluster with 2 workers\n",
    "from pyspark import SparkContext\n",
    "\n",
    "sc = SparkContext('local[*]')\n"
   ]
  },
  {
   "cell_type": "markdown",
   "metadata": {},
   "source": [
    "## Exercise 2\n",
    "\n",
    "Vérifier que votre session fonctionne correctement en testant le programme suivant:"
   ]
  },
  {
   "cell_type": "code",
   "execution_count": 4,
   "metadata": {},
   "outputs": [],
   "source": [
    "rdd = sc.parallelize(range(8))  # create collection"
   ]
  },
  {
   "cell_type": "code",
   "execution_count": 5,
   "metadata": {},
   "outputs": [
    {
     "data": {
      "text/plain": [
       "[0, 1, 2, 3, 4, 5, 6, 7]"
      ]
     },
     "execution_count": 5,
     "metadata": {},
     "output_type": "execute_result"
    }
   ],
   "source": [
    "rdd.collect()"
   ]
  },
  {
   "cell_type": "markdown",
   "metadata": {},
   "source": [
    "## Exercice 3\n",
    "\n",
    "Lisez les données se trouvant dans le fichier `big-data/data/philadelphia-crime-data-2015-ytd.csv` et stocker les dans une variable nommée `base_rdd`"
   ]
  },
  {
   "cell_type": "code",
   "execution_count": 6,
   "metadata": {},
   "outputs": [],
   "source": [
    "base_rdd = sc.textFile(\"file:///Users/navaro/Desktop/big-data/data/philadelphia-crime-data-2015-ytd.csv\")"
   ]
  },
  {
   "cell_type": "markdown",
   "metadata": {},
   "source": [
    "**Question**: La variable `base_rdd` contient-elle déjà les données ?\n",
    "\n",
    " * [ ] Oui\n",
    " * [X] Non"
   ]
  },
  {
   "cell_type": "markdown",
   "metadata": {},
   "source": [
    "Affichons les 10 premières observations:"
   ]
  },
  {
   "cell_type": "code",
   "execution_count": 7,
   "metadata": {
    "scrolled": true
   },
   "outputs": [
    {
     "data": {
      "text/plain": [
       "['SECTOR,DC_DIST,DC_KEY,LOCATION_BLOCK,UCR_GENERAL,OBJECTID,TEXT_GENERAL_CODE,POINT_X,POINT_Y,SHAPE,DISPATCH_DATE,DISPATCH_TIME',\n",
       " '1,1,201501000030,1500 BLOCK SHUNK ST,400,129338817,Aggravated Assault No Firearm,-75.17376025,39.91845624,129239946,2015-01-01,02:28:00.0',\n",
       " '1,1,201501000060,2800 BLOCK CANTRELL ST,400,129332317,Aggravated Assault Firearm,-75.19323947,39.92688103,129233446,2015-01-01,15:55:00.0',\n",
       " '1,1,201501000081,2800 BLOCK CANTRELL ST,300,129330354,Robbery Firearm,-75.19356481,39.92692647,129231483,2015-01-01,23:46:00.0',\n",
       " '2,1,201501000155,1800 BLOCK W MOYAMENSING AVE,600,129372455,Theft from Vehicle,-75.17877691,39.9142244,129273584,2015-01-02,10:52:00.0',\n",
       " '1,1,201501000173,2000 BLOCK POINT BREEZE AVE,600,129345460,Theft from Vehicle,-75.18862964,39.92739659,129246589,2015-01-02,14:26:00.0',\n",
       " '1,1,201501000282,2000 BLOCK OREGON AV,600,129365351,Thefts,-75.18147584,39.91823982,129266480,2015-01-03,12:43:00.0',\n",
       " '1,1,201501000284,2000 BLOCK S 22ND ST,600,129352165,Thefts,-75.18249755,39.92695112,129253294,2015-01-03,13:08:00.0',\n",
       " '1,1,201501000297,S 18TH ST / W PASSYUNK AV,600,129372464,Theft from Vehicle,-75.17629853,39.92425967,129273593,2015-01-03,16:43:00.0',\n",
       " '2,1,201501000356,2300 BLOCK OREGON AVE,600,129352170,Thefts,-75.18673096,39.91878087,129253299,2015-01-04,08:48:00.0']"
      ]
     },
     "execution_count": 7,
     "metadata": {},
     "output_type": "execute_result"
    }
   ],
   "source": [
    "base_rdd.take(10)"
   ]
  },
  {
   "cell_type": "markdown",
   "metadata": {},
   "source": [
    "Filtrons la première ligne pour ne pas tenir compte de la ligne d'entête."
   ]
  },
  {
   "cell_type": "code",
   "execution_count": 8,
   "metadata": {},
   "outputs": [],
   "source": [
    "no_header_rdd = base_rdd.filter(lambda line: 'SECTOR' not in line)"
   ]
  },
  {
   "cell_type": "code",
   "execution_count": 9,
   "metadata": {},
   "outputs": [
    {
     "data": {
      "text/plain": [
       "['1,1,201501000030,1500 BLOCK SHUNK ST,400,129338817,Aggravated Assault No Firearm,-75.17376025,39.91845624,129239946,2015-01-01,02:28:00.0',\n",
       " '1,1,201501000060,2800 BLOCK CANTRELL ST,400,129332317,Aggravated Assault Firearm,-75.19323947,39.92688103,129233446,2015-01-01,15:55:00.0',\n",
       " '1,1,201501000081,2800 BLOCK CANTRELL ST,300,129330354,Robbery Firearm,-75.19356481,39.92692647,129231483,2015-01-01,23:46:00.0',\n",
       " '2,1,201501000155,1800 BLOCK W MOYAMENSING AVE,600,129372455,Theft from Vehicle,-75.17877691,39.9142244,129273584,2015-01-02,10:52:00.0',\n",
       " '1,1,201501000173,2000 BLOCK POINT BREEZE AVE,600,129345460,Theft from Vehicle,-75.18862964,39.92739659,129246589,2015-01-02,14:26:00.0',\n",
       " '1,1,201501000282,2000 BLOCK OREGON AV,600,129365351,Thefts,-75.18147584,39.91823982,129266480,2015-01-03,12:43:00.0',\n",
       " '1,1,201501000284,2000 BLOCK S 22ND ST,600,129352165,Thefts,-75.18249755,39.92695112,129253294,2015-01-03,13:08:00.0',\n",
       " '1,1,201501000297,S 18TH ST / W PASSYUNK AV,600,129372464,Theft from Vehicle,-75.17629853,39.92425967,129273593,2015-01-03,16:43:00.0',\n",
       " '2,1,201501000356,2300 BLOCK OREGON AVE,600,129352170,Thefts,-75.18673096,39.91878087,129253299,2015-01-04,08:48:00.0',\n",
       " '1,1,201501000368,1400 BLOCK SHUNK ST,600,129352171,Thefts,-75.17176403,39.91828871,129253300,2015-01-04,10:10:00.0']"
      ]
     },
     "execution_count": 9,
     "metadata": {},
     "output_type": "execute_result"
    }
   ],
   "source": [
    "no_header_rdd.take(10)"
   ]
  },
  {
   "cell_type": "markdown",
   "metadata": {},
   "source": [
    "## Description des variables\n",
    "\n",
    "* `DC_DIST` (integer): District number\n",
    "* `SECTOR` (integer): Sector or PSA Number\n",
    "* `DISPATCH_DATE` (date string): Date of Incident \n",
    "* `DISPATCH_TIME` (time string): Time of Incident\n",
    "* `DC_KEY`: (text): Unique ID of each crime\n",
    "* `UCR_General` (integer): Rounded Crime Code\n",
    "* `TEXT_GENERAL_CODE` (string): Human-readable Crime Code\n",
    "* `OBJECTID` (integer): Unique row ID\n",
    "* `POINT_X` (decimal): Latitude where crime occurred\n",
    "* `POINT_Y` (decimal): Longitude where crime occurred"
   ]
  },
  {
   "cell_type": "markdown",
   "metadata": {},
   "source": [
    "### Exercise 4\n",
    "\n",
    "Transformer cette variable `base_rdd` pour qu'elle ne contienne que des objets Python\n",
    "\n",
    "* Décomposer chaque ligne à l'aide de la méthode `split`\n",
    "* Creer une nouvelle RDD nommée `data_rdd` contenant une liste d'instances de la classe `CrimeData` qui est un `nametuple`.\n",
    "\n",
    "Ne prenez en compte que les variables `date_string`, `time_string`, `offense`, `latitude` et `longitude`."
   ]
  },
  {
   "cell_type": "code",
   "execution_count": 10,
   "metadata": {},
   "outputs": [],
   "source": [
    "from collections import namedtuple\n",
    "\n",
    "CrimeData = namedtuple('CrimeData', ['date_string', 'time_string', 'offense', 'latitude', 'longitude'])\n",
    "\n",
    "def map_line(line):\n",
    "    cols = line.split(\",\")\n",
    "    return CrimeData(date_string=cols[10], \n",
    "                   time_string=cols[11], \n",
    "                   offense=cols[6], \n",
    "                   latitude=cols[7], \n",
    "                   longitude=cols[8])\n",
    "  \n",
    "data_rdd = no_header_rdd.map(map_line)"
   ]
  },
  {
   "cell_type": "code",
   "execution_count": 11,
   "metadata": {},
   "outputs": [
    {
     "name": "stdout",
     "output_type": "stream",
     "text": [
      "[CrimeData(date_string='2015-01-01', time_string='02:28:00.0', offense='Aggravated Assault No Firearm', latitude='-75.17376025', longitude='39.91845624'), CrimeData(date_string='2015-01-01', time_string='15:55:00.0', offense='Aggravated Assault Firearm', latitude='-75.19323947', longitude='39.92688103'), CrimeData(date_string='2015-01-01', time_string='23:46:00.0', offense='Robbery Firearm', latitude='-75.19356481', longitude='39.92692647'), CrimeData(date_string='2015-01-02', time_string='10:52:00.0', offense='Theft from Vehicle', latitude='-75.17877691', longitude='39.9142244'), CrimeData(date_string='2015-01-02', time_string='14:26:00.0', offense='Theft from Vehicle', latitude='-75.18862964', longitude='39.92739659'), CrimeData(date_string='2015-01-03', time_string='12:43:00.0', offense='Thefts', latitude='-75.18147584', longitude='39.91823982'), CrimeData(date_string='2015-01-03', time_string='13:08:00.0', offense='Thefts', latitude='-75.18249755', longitude='39.92695112'), CrimeData(date_string='2015-01-03', time_string='16:43:00.0', offense='Theft from Vehicle', latitude='-75.17629853', longitude='39.92425967'), CrimeData(date_string='2015-01-04', time_string='08:48:00.0', offense='Thefts', latitude='-75.18673096', longitude='39.91878087'), CrimeData(date_string='2015-01-04', time_string='10:10:00.0', offense='Thefts', latitude='-75.17176403', longitude='39.91828871')]\n"
     ]
    }
   ],
   "source": [
    "print(data_rdd.take(10))"
   ]
  },
  {
   "cell_type": "markdown",
   "metadata": {},
   "source": [
    "### Exercise 5\n",
    "\n",
    "Grouper les observations par crime et compter les.\n",
    "\n",
    "Les observations de la variable `offense` présentent quelques anomalies.\n",
    "Ecrire le code python permettant de nettoyer les données et stocker le résultat dans une nouvelle rdd nommée `cleaned_data`.\n",
    "\n",
    "Répondez aux questions suivantes:\n",
    "\n",
    " - Combien comptez-vous de meutres durant la période ?\n",
    " \n",
    " Réponse:\n",
    " \n",
    " \n",
    " - Combien de cambriolages de résidence ? \n",
    " \n",
    " Réponse:\n",
    " \n",
    " \n",
    " - Combien de vols à main armée ? \n",
    " \n",
    " Réponse:"
   ]
  },
  {
   "cell_type": "code",
   "execution_count": 12,
   "metadata": {},
   "outputs": [],
   "source": [
    "import re\n",
    "\n",
    "BAD_OFFENSE_RE = re.compile(r'^\\\\d+$')\n",
    "\n",
    "def clean_offense(d):\n",
    "    d = CrimeData(date_string=d.date_string, \n",
    "                    time_string=d.time_string,\n",
    "                    offense=d.offense.replace('\\\"', '').strip(),\n",
    "                    latitude=d.latitude,\n",
    "                    longitude=d.longitude)\n",
    "    return d\n",
    "\n",
    "cleaned_rdd = (data_rdd.map(clean_offense)\n",
    "               .filter(lambda d: not d.offense.isdigit()))"
   ]
  },
  {
   "cell_type": "code",
   "execution_count": 13,
   "metadata": {},
   "outputs": [
    {
     "name": "stdout",
     "output_type": "stream",
     "text": [
      "Thefts                         19619\n",
      "Theft from Vehicle             10608\n",
      "Recovered Stolen Motor Vehicle 5731\n",
      "Burglary Residential           5585\n",
      "Aggravated Assault No Firearm  4634\n",
      "Robbery No Firearm             3220\n",
      "Robbery Firearm                2384\n",
      "Aggravated Assault Firearm     1940\n",
      "Motor Vehicle Theft            1916\n",
      "Burglary Non-Residential       1251\n",
      "Rape                           1061\n",
      "Homicide - Criminal            223\n"
     ]
    }
   ],
   "source": [
    "from operator import itemgetter\n",
    "offense_counts = cleaned_rdd.map(lambda item: (item.offense, item)).countByKey()\n",
    "for offense, counts in sorted(offense_counts.items(), key=itemgetter(1), reverse=True):\n",
    "    print(\"{0:30s} {1:d}\".format(offense, counts))"
   ]
  },
  {
   "cell_type": "markdown",
   "metadata": {},
   "source": [
    "### Exercise 6\n",
    "\n",
    "Ecrire le code Python permettant de tracer l'histogramme du nombre d'homicides en fonction de l'heure de la journée (0:00-24:00)."
   ]
  },
  {
   "cell_type": "code",
   "execution_count": 14,
   "metadata": {},
   "outputs": [],
   "source": [
    "from datetime import datetime\n",
    "time_format = \"%H:%M:%S\"\n",
    "\n",
    "def parse_time(s):\n",
    "    return s.split(':')[0]\n",
    "\n",
    "def parse_date(s):\n",
    "    return s.split('-')[1]\n",
    "\n",
    "result1_rdd = cleaned_rdd.filter(lambda item: item.offense.startswith(\"Homicide\"))\\\n",
    "                         .map(lambda d: (parse_time(d.time_string),1))\\\n",
    "                         .countByKey()\n",
    "\n",
    "result2_rdd = cleaned_rdd.filter(lambda item: item.offense.startswith(\"Homicide\"))\\\n",
    "                         .map(lambda d: (parse_date(d.date_string),1))\\\n",
    "                         .reduceByKey(lambda a, b: a + b)\n",
    "\n",
    "\n",
    "results1 = sorted(result1_rdd.items())\n",
    "results2 = sorted(result2_rdd.collect())"
   ]
  },
  {
   "cell_type": "code",
   "execution_count": 15,
   "metadata": {},
   "outputs": [
    {
     "data": {
      "text/plain": [
       "<BarContainer object of 24 artists>"
      ]
     },
     "execution_count": 15,
     "metadata": {},
     "output_type": "execute_result"
    },
    {
     "data": {
      "image/png": "[encoded data removed]",
      "text/plain": [
       "<Figure size 432x288 with 1 Axes>"
      ]
     },
     "metadata": {},
     "output_type": "display_data"
    }
   ],
   "source": [
    "%matplotlib inline\n",
    "import matplotlib.pyplot as plt\n",
    "import seaborn as sns\n",
    "sns.set()\n",
    "\n",
    "plt.bar([ h[0] for h in results1], [ h[1] for h in results1])                   "
   ]
  },
  {
   "cell_type": "code",
   "execution_count": 16,
   "metadata": {},
   "outputs": [
    {
     "data": {
      "text/plain": [
       "<BarContainer object of 10 artists>"
      ]
     },
     "execution_count": 16,
     "metadata": {},
     "output_type": "execute_result"
    },
    {
     "data": {
      "image/png": "[encoded data removed]",
      "text/plain": [
       "<Figure size 432x288 with 1 Axes>"
      ]
     },
     "metadata": {},
     "output_type": "display_data"
    }
   ],
   "source": [
    "%matplotlib inline\n",
    "import matplotlib.pyplot as plt\n",
    "import seaborn as sns\n",
    "sns.set()\n",
    "\n",
    "plt.bar([ d[0] for d in results2], [ h[1] for h in results2])      "
   ]
  },
  {
   "cell_type": "markdown",
   "metadata": {},
   "source": [
    "# Solution with DataFrame"
   ]
  },
  {
   "cell_type": "code",
   "execution_count": 17,
   "metadata": {},
   "outputs": [
    {
     "name": "stdout",
     "output_type": "stream",
     "text": [
      "+------+-------+------------+--------------------+-----------+---------+--------------------+------------+-----------+---------+-------------+-------------+\n",
      "|SECTOR|DC_DIST|      DC_KEY|      LOCATION_BLOCK|UCR_GENERAL| OBJECTID|   TEXT_GENERAL_CODE|     POINT_X|    POINT_Y|    SHAPE|DISPATCH_DATE|DISPATCH_TIME|\n",
      "+------+-------+------------+--------------------+-----------+---------+--------------------+------------+-----------+---------+-------------+-------------+\n",
      "|     1|      1|201501000030| 1500 BLOCK SHUNK ST|        400|129338817|Aggravated Assaul...|-75.17376025|39.91845624|129239946|   2015-01-01|   02:28:00.0|\n",
      "|     1|      1|201501000060|2800 BLOCK CANTRE...|        400|129332317|Aggravated Assaul...|-75.19323947|39.92688103|129233446|   2015-01-01|   15:55:00.0|\n",
      "|     1|      1|201501000081|2800 BLOCK CANTRE...|        300|129330354|     Robbery Firearm|-75.19356481|39.92692647|129231483|   2015-01-01|   23:46:00.0|\n",
      "|     2|      1|201501000155|1800 BLOCK W MOYA...|        600|129372455|  Theft from Vehicle|-75.17877691| 39.9142244|129273584|   2015-01-02|   10:52:00.0|\n",
      "|     1|      1|201501000173|2000 BLOCK POINT ...|        600|129345460|  Theft from Vehicle|-75.18862964|39.92739659|129246589|   2015-01-02|   14:26:00.0|\n",
      "|     1|      1|201501000282|2000 BLOCK OREGON AV|        600|129365351|              Thefts|-75.18147584|39.91823982|129266480|   2015-01-03|   12:43:00.0|\n",
      "|     1|      1|201501000284|2000 BLOCK S 22ND ST|        600|129352165|              Thefts|-75.18249755|39.92695112|129253294|   2015-01-03|   13:08:00.0|\n",
      "|     1|      1|201501000297|S 18TH ST / W PAS...|        600|129372464|  Theft from Vehicle|-75.17629853|39.92425967|129273593|   2015-01-03|   16:43:00.0|\n",
      "|     2|      1|201501000356|2300 BLOCK OREGON...|        600|129352170|              Thefts|-75.18673096|39.91878087|129253299|   2015-01-04|   08:48:00.0|\n",
      "|     1|      1|201501000368| 1400 BLOCK SHUNK ST|        600|129352171|              Thefts|-75.17176403|39.91828871|129253300|   2015-01-04|   10:10:00.0|\n",
      "|     1|      1|201501000402|2900 BLOCK NEW HO...|        500|129342652|Burglary Residential|-75.19414401|39.93061131|129243781|   2015-01-04|   19:35:00.0|\n",
      "|     1|      1|201501000444|1800 BLOCK S NEWK...|        600|129370108|  Theft from Vehicle|-75.19258598|39.93014428|129271237|   2015-01-05|   08:37:00.0|\n",
      "|     1|      1|201501000446|2100 BLOCK S 20TH ST|        600|129372468|  Theft from Vehicle|-75.17940991|39.92509852|129273597|   2015-01-05|   09:05:00.0|\n",
      "|     1|      1|201501000451|1800 BLOCK S 19TH ST|        500|129342857|Burglary Residential|-75.17704066|39.92803295|129243986|   2015-01-05|   10:38:00.0|\n",
      "|     2|      1|201501000518|23RD STREET DR / ...|        600|129362499|              Thefts|-75.18602969|39.91869963|129263628|   2015-01-05|   22:11:00.0|\n",
      "|     1|      1|201501000554|2100 BLOCK TANEY TER|        500|129339979|Burglary Residential| -75.1908631|39.92635431|129241108|   2015-01-06|   09:13:00.0|\n",
      "|     1|      1|201501000691|1800 BLOCK HOFFMA...|        600|129372684|  Theft from Vehicle|-75.17572287| 39.9271947|129273813|   2015-01-07|   15:18:00.0|\n",
      "|     2|      1|201501000710|2200 BLOCK OREGON...|        600|129362512|              Thefts|-75.18444273| 39.9185007|129263641|   2015-01-07|   17:34:00.0|\n",
      "|     1|      1|201501000777|1800 BLOCK HOFFMA...|        400|129338824|Aggravated Assaul...|-75.17675335|39.92732934|129239953|   2015-01-08|   12:46:00.0|\n",
      "|     1|      1|201501000778| 2200 BLOCK SIGEL ST|        500|129341207|Burglary Residential|-75.18348714|39.92907428|129242336|   2015-01-08|   12:04:00.0|\n",
      "+------+-------+------------+--------------------+-----------+---------+--------------------+------------+-----------+---------+-------------+-------------+\n",
      "only showing top 20 rows\n",
      "\n"
     ]
    }
   ],
   "source": [
    "from pyspark.sql import SparkSession\n",
    "from pyspark.sql.functions import to_date, to_timestamp\n",
    "\n",
    "spark = SparkSession(sc)\n",
    "\n",
    "df = spark.read.csv(\"../data/philadelphia-crime-data-2015-ytd.csv\",\n",
    "                   mode=\"DROPMALFORMED\",\n",
    "                   header=True)\n",
    "\n",
    "df.show()"
   ]
  },
  {
   "cell_type": "code",
   "execution_count": 18,
   "metadata": {},
   "outputs": [
    {
     "name": "stdout",
     "output_type": "stream",
     "text": [
      "root\n",
      " |-- SECTOR: string (nullable = true)\n",
      " |-- DC_DIST: string (nullable = true)\n",
      " |-- DC_KEY: string (nullable = true)\n",
      " |-- LOCATION_BLOCK: string (nullable = true)\n",
      " |-- UCR_GENERAL: string (nullable = true)\n",
      " |-- OBJECTID: string (nullable = true)\n",
      " |-- TEXT_GENERAL_CODE: string (nullable = true)\n",
      " |-- POINT_X: string (nullable = true)\n",
      " |-- POINT_Y: string (nullable = true)\n",
      " |-- SHAPE: string (nullable = true)\n",
      " |-- DISPATCH_DATE: string (nullable = true)\n",
      " |-- DISPATCH_TIME: string (nullable = true)\n",
      "\n"
     ]
    }
   ],
   "source": [
    "df.printSchema()"
   ]
  },
  {
   "cell_type": "code",
   "execution_count": 19,
   "metadata": {},
   "outputs": [
    {
     "name": "stdout",
     "output_type": "stream",
     "text": [
      "+--------------------+-----+\n",
      "|   TEXT_GENERAL_CODE|count|\n",
      "+--------------------+-----+\n",
      "|              Thefts|19619|\n",
      "|  Theft from Vehicle|10608|\n",
      "|Recovered Stolen ...| 5731|\n",
      "|Burglary Residential| 5587|\n",
      "|Aggravated Assaul...| 4634|\n",
      "|  Robbery No Firearm| 3220|\n",
      "|     Robbery Firearm| 2384|\n",
      "|Aggravated Assaul...| 1940|\n",
      "| Motor Vehicle Theft| 1916|\n",
      "|Burglary Non-Resi...| 1251|\n",
      "|                Rape| 1061|\n",
      "| Homicide - Criminal|  183|\n",
      "|Homicide - Criminal |   40|\n",
      "+--------------------+-----+\n",
      "\n"
     ]
    }
   ],
   "source": [
    "df.groupBy(\"TEXT_GENERAL_CODE\").count().orderBy(\"count\", ascending=False).show()"
   ]
  },
  {
   "cell_type": "code",
   "execution_count": 20,
   "metadata": {},
   "outputs": [
    {
     "data": {
      "text/plain": [
       "['SECTOR',\n",
       " 'DC_DIST',\n",
       " 'DC_KEY',\n",
       " 'LOCATION_BLOCK',\n",
       " 'UCR_GENERAL',\n",
       " 'OBJECTID',\n",
       " 'TEXT_GENERAL_CODE',\n",
       " 'POINT_X',\n",
       " 'POINT_Y',\n",
       " 'SHAPE',\n",
       " 'DISPATCH_DATE',\n",
       " 'DISPATCH_TIME']"
      ]
     },
     "execution_count": 20,
     "metadata": {},
     "output_type": "execute_result"
    }
   ],
   "source": [
    "from pyspark.sql.functions import when\n",
    "\n",
    "df.columns"
   ]
  },
  {
   "cell_type": "code",
   "execution_count": 21,
   "metadata": {},
   "outputs": [
    {
     "name": "stdout",
     "output_type": "stream",
     "text": [
      "+--------------------+-----+\n",
      "|   TEXT_GENERAL_CODE|count|\n",
      "+--------------------+-----+\n",
      "|              Thefts|19619|\n",
      "|  Theft from Vehicle|10608|\n",
      "|Recovered Stolen ...| 5731|\n",
      "|Burglary Residential| 5587|\n",
      "|Aggravated Assaul...| 4634|\n",
      "|  Robbery No Firearm| 3220|\n",
      "|     Robbery Firearm| 2384|\n",
      "|Aggravated Assaul...| 1940|\n",
      "| Motor Vehicle Theft| 1916|\n",
      "|Burglary Non-Resi...| 1251|\n",
      "|                Rape| 1061|\n",
      "| Homicide - Criminal|  223|\n",
      "+--------------------+-----+\n",
      "\n"
     ]
    }
   ],
   "source": [
    "from pyspark.sql.functions import col,udf\n",
    "from pyspark.sql.types import  StringType\n",
    "myfunc =  udf(lambda x: x.strip() , StringType())\n",
    "new_df = df.withColumn(\"TEXT_GENERAL_CODE\", myfunc(col('TEXT_GENERAL_CODE')))\n",
    "new_df.groupBy(\"TEXT_GENERAL_CODE\").count().orderBy(\"count\", ascending=False).show()"
   ]
  },
  {
   "cell_type": "code",
   "execution_count": 22,
   "metadata": {},
   "outputs": [],
   "source": [
    "from pyspark.sql.functions import hour\n",
    "\n",
    "homicides = (new_df.filter(\"TEXT_GENERAL_CODE == 'Homicide - Criminal'\")\n",
    ".select(hour(new_df[\"DISPATCH_TIME\"])\n",
    ".alias(\"hour\"))\n",
    ".groupBy(\"hour\").count().collect())"
   ]
  },
  {
   "cell_type": "code",
   "execution_count": 23,
   "metadata": {},
   "outputs": [],
   "source": [
    "hours, counts = zip(*[(row.hour,row[\"count\"])  for row in homicides])"
   ]
  },
  {
   "cell_type": "code",
   "execution_count": 24,
   "metadata": {},
   "outputs": [
    {
     "data": {
      "text/plain": [
       "<BarContainer object of 24 artists>"
      ]
     },
     "execution_count": 24,
     "metadata": {},
     "output_type": "execute_result"
    },
    {
     "data": {
      "image/png": "[encoded data removed]",
      "text/plain": [
       "<Figure size 432x288 with 1 Axes>"
      ]
     },
     "metadata": {},
     "output_type": "display_data"
    }
   ],
   "source": [
    "plt.bar(hours, counts)"
   ]
  },
  {
   "cell_type": "code",
   "execution_count": null,
   "metadata": {},
   "outputs": [],
   "source": []
  }
 ],
 "metadata": {
  "@webio": {
   "lastCommId": null,
   "lastKernelId": null
  },
  "jupytext": {
   "encoding": "# -*- coding: utf-8 -*-",
   "formats": "ipynb,../src//py"
  },
  "kernelspec": {
   "display_name": "Python 3",
   "language": "python",
   "name": "python3"
  },
  "language_info": {
   "codemirror_mode": {
    "name": "ipython",
    "version": 3
   },
   "file_extension": ".py",
   "mimetype": "text/x-python",
   "name": "python",
   "nbconvert_exporter": "python",
   "pygments_lexer": "ipython3",
   "version": "3.7.5"
  },
  "name": "Lab",
  "notebookId": 1879358992052921
 },
 "nbformat": 4,
 "nbformat_minor": 2
}
